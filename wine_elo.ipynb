{
 "metadata": {
  "language_info": {
   "codemirror_mode": {
    "name": "ipython",
    "version": 3
   },
   "file_extension": ".py",
   "mimetype": "text/x-python",
   "name": "python",
   "nbconvert_exporter": "python",
   "pygments_lexer": "ipython3",
   "version": "3.9.2"
  },
  "orig_nbformat": 2,
  "kernelspec": {
   "name": "python392jvsc74a57bd0767d51c1340bd893661ea55ea3124f6de3c7a262a8b4abca0554b478b1e2ff90",
   "display_name": "Python 3.9.2 64-bit"
  },
  "metadata": {
   "interpreter": {
    "hash": "767d51c1340bd893661ea55ea3124f6de3c7a262a8b4abca0554b478b1e2ff90"
   }
  }
 },
 "nbformat": 4,
 "nbformat_minor": 2,
 "cells": [
  {
   "cell_type": "code",
   "execution_count": 2,
   "metadata": {},
   "outputs": [],
   "source": [
    "import pandas as pd\n",
    "import numpy as np\n",
    "import os\n",
    "import json\n",
    "import time\n",
    "import datetime\n",
    "from dateutil.relativedelta import relativedelta\n",
    "from chessratings import uscf_elo\n"
   ]
  },
  {
   "cell_type": "code",
   "execution_count": 3,
   "metadata": {
    "tags": []
   },
   "outputs": [],
   "source": [
    "all_wine_reviews = []\n",
    "for f in os.listdir('raw_data'):\n",
    "    filename = 'raw_data/' + f\n",
    "    with open(filename, 'r') as contents:\n",
    "        user_wine_reviews = json.loads(contents.read())\n",
    "        user_id = f.split('.')[0]\n",
    "        scrape_date_unix = os.path.getmtime('raw_data/4057966.json')\n",
    "        scrape_date = datetime.datetime.fromtimestamp(scrape_date_unix)\n",
    "        for u in user_wine_reviews:\n",
    "            u['reviewer'] = user_id\n",
    "            u['scrape_date'] = scrape_date\n",
    "\n",
    "            all_wine_reviews.append(u)\n",
    "\n",
    "wine_review_df = pd.json_normalize(all_wine_reviews)"
   ]
  },
  {
   "cell_type": "code",
   "execution_count": 4,
   "metadata": {},
   "outputs": [],
   "source": [
    "def nearest(items, pivot):\n",
    "    return min(items, key=lambda x: abs(x - pivot))\n",
    "\n",
    "\n",
    "def compute_date(scrape_date, review_date, review_time_ago):\n",
    "    review_month = review_date[5:8]\n",
    "    review_day = review_date[-20:-18].strip()\n",
    "\n",
    "    if 'over' in review_time_ago:\n",
    "        crop_offset_string = review_time_ago.split('over')[1].strip()\n",
    "        offset_period = int(crop_offset_string[:2].strip())\n",
    "\n",
    "        min_date = scrape_date - relativedelta(months=12*(offset_period+1))\n",
    "        max_date = scrape_date - relativedelta(months=12*offset_period)\n",
    "\n",
    "        candidate_years = [min_date.year, max_date.year]\n",
    "        candidate_dates = [datetime.datetime.strptime(review_day + ' ' + review_month + ' ' + str(y), '%d %b %Y') for y in candidate_years]\n",
    "\n",
    "        final_review_date = [d for d in candidate_dates if d > min_date and d < max_date][0]\n",
    "\n",
    "    elif 'almost' in review_time_ago:\n",
    "        crop_offset_string = review_time_ago.split('almost')[1].strip()\n",
    "        offset_period = int(crop_offset_string[:2].strip())\n",
    "\n",
    "        min_date = scrape_date - relativedelta(months=12*offset_period)\n",
    "        max_date = scrape_date\n",
    "\n",
    "        candidate_years = [min_date.year, max_date.year]\n",
    "        candidate_dates = [datetime.datetime.strptime(review_day + ' ' + review_month + ' ' + str(y), '%d %b %Y') for y in candidate_years]\n",
    "\n",
    "        final_review_date = [d for d in candidate_dates if d > min_date and d < max_date][0]      \n",
    "\n",
    "    else:\n",
    "        if 'about' in review_time_ago:\n",
    "            crop_offset_string = review_time_ago.split('about')[1].strip()\n",
    "            offset_period = int(crop_offset_string[:2].strip())\n",
    "        else:\n",
    "            offset_period = int(review_time_ago[:2].strip())\n",
    "\n",
    "        if 'month' in review_time_ago:\n",
    "            offset_scrape_date = scrape_date - relativedelta(months=offset_period)\n",
    "        elif 'year' in review_time_ago:\n",
    "            offset_scrape_date = scrape_date - relativedelta(months=12*offset_period)\n",
    "        else:\n",
    "            offset_scrape_date = scrape_date\n",
    "        \n",
    "        candidate_years = [offset_scrape_date.year - 1, offset_scrape_date.year, offset_scrape_date.year + 1]\n",
    "        try:\n",
    "            candidate_dates = [datetime.datetime.strptime(review_day + ' ' + review_month + ' ' + str(y), '%d %b %Y') for y in candidate_years]\n",
    "        # in some fringe cases, we may be dealing with February 29th, which only exists on leap years\n",
    "        except ValueError:\n",
    "            candidate_dates = [datetime.datetime.strptime(str(int(review_day) - 1) + ' ' + review_month + ' ' + str(y), '%d %b %Y') for y in candidate_years]\n",
    "        \n",
    "        final_review_date = nearest(candidate_dates, offset_scrape_date)\n",
    "    \n",
    "    return final_review_date\n",
    "\n",
    "\n",
    "# function to create a compound ID that uniquely identifies a wine by its vintage, review year \n",
    "def create_wine_year_id(wine_id, vintage, review_year):\n",
    "    compound_id = str(wine_id) + '-' + str(vintage) + '-' + str(review_year)\n",
    "    return compound_id\n",
    "\n",
    "\n",
    "def clean_wine_reviews(review_df):\n",
    "    review_df['final_review_date'] = review_df.apply(lambda x: compute_date(scrape_date, x['review_date'], x['review_time_ago']), axis=1)\n",
    "    review_df['review_year'] = review_df['final_review_date'].apply(lambda x: x.year)\n",
    "\n",
    "    # drop any reviews that don't have a vintage specified. N.V. is acceptable, but blank vintage is not. \n",
    "    review_df['vintage'].replace({'': np.nan}, inplace=True)\n",
    "    review_df.dropna(subset=['vintage'], axis=0, inplace=True)\n",
    "\n",
    "    review_df['wine_year_id'] = review_df.apply(lambda x: create_wine_year_id(x['wine_id'], x['vintage'], x['review_year']), axis=1)\n",
    "\n",
    "    just_reviews = review_df[['reviewer', 'wine_year_id', 'vintage', 'review_year', 'wine_id', 'rating', 'final_review_date']]\n",
    "    return just_reviews\n"
   ]
  },
  {
   "cell_type": "code",
   "execution_count": 8,
   "metadata": {
    "tags": []
   },
   "outputs": [
    {
     "output_type": "stream",
     "name": "stdout",
     "text": [
      "(6606, 8)\n          wine_year_id tournament_date tournament_number   elo_rating  \\\n0    1414284-2011-2013      2013-04-07                 0  1100.000000   \n0  161613482-2018-2020      2020-07-13                 0  1700.000000   \n3  164394152-2019-2020      2020-07-15                 0  1600.000000   \n2  156570680-2018-2020      2020-07-15                 0  1600.000000   \n1  156220915-2018-2020      2020-07-15                 0  1100.000000   \n0  161083957-2019-2020      2020-07-15                 0  1100.000000   \n2  147820657-2016-2020      2020-07-13                 0  1700.000000   \n1    4702409-2012-2020      2020-07-13                 0  1300.000000   \n0  150116080-2013-2020      2020-07-13                 0   900.000000   \n3  161363487-2019-2020      2020-07-13                 0  1166.666667   \n2  159813766-2018-2020      2020-07-13                 0  1166.666667   \n1  159786937-2018-2020      2020-07-13                 0  1166.666667   \n4  159542061-2019-2020      2020-07-12                 0  1100.000000   \n0  155767665-2016-2020      2020-07-15                 0   900.000000   \n3  165013220-2019-2020      2020-07-12                 0  1100.000000   \n2  163413821-2019-2020      2020-07-12                 0  1100.000000   \n1  158712875-2017-2020      2020-07-12                 0  1600.000000   \n0  160098048-2019-2020      2020-07-12                 0  1600.000000   \n3  159853255-2019-2020      2020-07-11                 0   900.000000   \n2  159932900-2019-2020      2020-07-11                 0  1433.333333   \n1  160496665-2019-2020      2020-07-11                 0  1433.333333   \n0   10898324-2007-2020      2020-07-11                 0  1433.333333   \n2  160031028-2017-2020      2020-07-11                 0  1700.000000   \n1  157292573-2018-2020      2020-07-11                 0  1300.000000   \n4    3416792-N.V.-2020      2020-07-15                 0  1100.000000   \n1  160416509-2018-2020      2020-07-15                 0  1700.000000   \n4  159867583-2019-2020      2020-07-11                 0  1100.000000   \n1  144956781-2016-2020      2020-07-17                 0  1540.000000   \n0  160781745-2018-2020      2020-07-18                 0  1166.666667   \n4  126119834-2016-2020      2020-07-18                 0  1600.000000   \n\n  nr_games_played nr_wins nr_losses  nr_draws  \n0               2       0         1       1.0  \n0               3       3         0       0.0  \n3               4       3         0       1.0  \n2               4       3         0       1.0  \n1               4       0         2       2.0  \n0               4       0         2       2.0  \n2               2       2         0       0.0  \n1               2       1         1       0.0  \n0               2       0         2       0.0  \n3               3       0         1       2.0  \n2               3       0         1       2.0  \n1               3       0         1       2.0  \n4               4       0         2       2.0  \n0               2       0         2       0.0  \n3               4       0         2       2.0  \n2               4       0         2       2.0  \n1               4       3         0       1.0  \n0               4       3         0       1.0  \n3               3       0         3       0.0  \n2               3       1         0       2.0  \n1               3       1         0       2.0  \n0               3       1         0       2.0  \n2               2       2         0       0.0  \n1               2       1         1       0.0  \n4               4       0         2       2.0  \n1               2       2         0       0.0  \n4               4       1         3       0.0  \n1               5       3         0       2.0  \n0               3       1         2       0.0  \n4               4       3         0       1.0  \n"
     ]
    }
   ],
   "source": [
    "\n",
    "from itertools import combinations\n",
    "\n",
    "\n",
    "def compute_head_to_head_result(wine_0, wine_1, rating_0, rating_1):\n",
    "    if rating_0 > rating_1:\n",
    "        return wine_0\n",
    "    elif rating_0 < rating_1:\n",
    "        return wine_1\n",
    "    else:\n",
    "        return np.nan\n",
    "\n",
    "\n",
    "def player_info_lookup(wine_year_id, score_lookup_table):\n",
    "    score_lookup_table_filtered = score_lookup_table.loc[score_lookup_table['wine_year_id'] == wine_year_id]\n",
    "    if score_lookup_table_filtered.empty:\n",
    "        elo_rating = None\n",
    "        tournament_number = 0\n",
    "        nr_games_played = 0\n",
    "        nr_wins = 0\n",
    "        nr_losses = 0\n",
    "    else:\n",
    "        score_lookup = score_lookup_table_filtered.loc[score_lookup_table_filtered['tournament_number'] == max(score_lookup_table_filtered['tournament_number'])].iloc[0]\n",
    "        elo_rating = score_lookup['elo_rating']\n",
    "        tournament_number = score_lookup['tournament_number']\n",
    "        nr_games_played = sum(score_lookup_table_filtered['nr_games_played'])\n",
    "        nr_wins = sum(score_lookup_table_filtered['nr_wins'])\n",
    "        nr_losses = sum(score_lookup_table_filtered['nr_losses'])\n",
    "    \n",
    "    return elo_rating, tournament_number, nr_games_played, nr_wins, nr_losses\n",
    "\n",
    "def match_format(combo, review_table):\n",
    "    id_0 = combo[0]\n",
    "    id_1 = combo[1]\n",
    "    rating_0 = review_table.at[combo[0], 'rating']\n",
    "    rating_1 = review_table.at[combo[1], 'rating']\n",
    "\n",
    "    # note: still need to fix this\n",
    "    if isinstance(rating_0, float) and isinstance(rating_1, float):\n",
    "        result = compute_head_to_head_result(id_0, id_1, rating_0, rating_1)\n",
    "        match_result = ((id_0, id_1), result)\n",
    "    \n",
    "        return match_result\n",
    "\n",
    "\n",
    "def run_tournaments(review_df, score_lookup_table):\n",
    "    review_dates = sorted(list(set(review_df['final_review_date'])))\n",
    "    for r in review_dates:\n",
    "        review_df_date = review_df.loc[review_df['final_review_date'] == r]\n",
    "        reviewers = sorted(list(set(review_df_date['reviewer'])))\n",
    "        for u in reviewers:\n",
    "            review_df_slice = review_df_date.loc[review_df_date['reviewer'] == u]\n",
    "            # In some rare cases, an individual may have rated an individual wine more than once in one day. In this case, we eliminate one of these reviews\n",
    "            review_df_slice = review_df_slice[~review_df_slice.index.duplicated(keep='first')]\n",
    "            \n",
    "            players = []\n",
    "            unique_players = list(set(review_df_slice.index))\n",
    "\n",
    "            for u in unique_players:\n",
    "                rating, tournament_number, nr_games_played, nr_wins, nr_losses = player_info_lookup(u, score_lookup_table)\n",
    "                p = uscf_elo.Player(u, rating, nr_games_played, nr_wins, nr_losses, tournament_number)\n",
    "                players.append(p)\n",
    "\n",
    "            combos = list(combinations(review_df_slice.index, 2))\n",
    "            tournament_results = []\n",
    "            for c in combos:\n",
    "                match_result = match_format(c, review_df_slice)\n",
    "                tournament_results.append(match_result)\n",
    "\n",
    "            tournament = uscf_elo.Tournament(players=players, tournament_results=tournament_results, tournament_date=r)\n",
    "            if tournament.valid_tournament:\n",
    "                try:\n",
    "                    updated_scores = tournament.run_tournament()                        \n",
    "                    score_lookup_entry_table = pd.DataFrame(updated_scores, columns=['wine_year_id', 'tournament_date', 'tournament_number', 'nr_games_played', 'nr_wins', 'nr_draws', 'nr_losses', 'elo_rating'])\n",
    "                    score_lookup_table = score_lookup_table.append(score_lookup_entry_table)\n",
    "                except:\n",
    "                    continue\n",
    "    return score_lookup_table\n",
    "                # [print(u) for u in updated_scores]\n",
    "\n",
    "wine_reviews = clean_wine_reviews(wine_review_df).head(10000)\n",
    "wine_reviews = wine_reviews.set_index(['wine_year_id'])\n",
    "score_lookup_table_columns = ['wine_year_id', 'tournament_date', 'tournament_number', 'elo_rating', 'nr_games_played', 'nr_wins', 'nr_losses']\n",
    "score_lookup_table = pd.DataFrame(columns=score_lookup_table_columns)\n",
    "all_results = run_tournaments(wine_reviews, score_lookup_table)\n",
    "\n",
    "# all_results.to_csv('all_results.csv')\n",
    "print(all_results.shape)\n",
    "print(all_results.sort_values(by=['tournament_number'], ascending=False).head(30))"
   ]
  },
  {
   "cell_type": "code",
   "execution_count": 6,
   "metadata": {},
   "outputs": [
    {
     "output_type": "execute_result",
     "data": {
      "text/plain": [
       "Empty DataFrame\n",
       "Columns: [wine_year_id, tournament_date, tournament_number, elo_rating, nr_games_played, nr_wins, nr_losses, nr_draws]\n",
       "Index: []"
      ],
      "text/html": "<div>\n<style scoped>\n    .dataframe tbody tr th:only-of-type {\n        vertical-align: middle;\n    }\n\n    .dataframe tbody tr th {\n        vertical-align: top;\n    }\n\n    .dataframe thead th {\n        text-align: right;\n    }\n</style>\n<table border=\"1\" class=\"dataframe\">\n  <thead>\n    <tr style=\"text-align: right;\">\n      <th></th>\n      <th>wine_year_id</th>\n      <th>tournament_date</th>\n      <th>tournament_number</th>\n      <th>elo_rating</th>\n      <th>nr_games_played</th>\n      <th>nr_wins</th>\n      <th>nr_losses</th>\n      <th>nr_draws</th>\n    </tr>\n  </thead>\n  <tbody>\n  </tbody>\n</table>\n</div>"
     },
     "metadata": {},
     "execution_count": 6
    }
   ],
   "source": [
    "all_results.loc[all_results['wine_year_id'] == '156566236-2018-2021']"
   ]
  },
  {
   "cell_type": "code",
   "execution_count": 7,
   "metadata": {},
   "outputs": [
    {
     "output_type": "error",
     "ename": "NameError",
     "evalue": "name 'results' is not defined",
     "traceback": [
      "\u001b[0;31m---------------------------------------------------------------------------\u001b[0m",
      "\u001b[0;31mNameError\u001b[0m                                 Traceback (most recent call last)",
      "\u001b[0;32m<ipython-input-7-e648a0f844a0>\u001b[0m in \u001b[0;36m<module>\u001b[0;34m\u001b[0m\n\u001b[0;32m----> 1\u001b[0;31m \u001b[0mday_results\u001b[0m \u001b[0;34m=\u001b[0m \u001b[0mresults\u001b[0m\u001b[0;34m.\u001b[0m\u001b[0mloc\u001b[0m\u001b[0;34m[\u001b[0m\u001b[0mresults\u001b[0m\u001b[0;34m[\u001b[0m\u001b[0;34m'date'\u001b[0m\u001b[0;34m]\u001b[0m \u001b[0;34m==\u001b[0m \u001b[0;34m'2015-05-31'\u001b[0m\u001b[0;34m]\u001b[0m\u001b[0;34m\u001b[0m\u001b[0;34m\u001b[0m\u001b[0m\n\u001b[0m\u001b[1;32m      2\u001b[0m \u001b[0mprint\u001b[0m\u001b[0;34m(\u001b[0m\u001b[0mday_results\u001b[0m\u001b[0;34m)\u001b[0m\u001b[0;34m\u001b[0m\u001b[0;34m\u001b[0m\u001b[0m\n",
      "\u001b[0;31mNameError\u001b[0m: name 'results' is not defined"
     ]
    }
   ],
   "source": [
    "day_results = results.loc[results['date'] == '2015-05-31']\n",
    "print(day_results)"
   ]
  },
  {
   "cell_type": "code",
   "execution_count": 12,
   "metadata": {},
   "outputs": [
    {
     "output_type": "stream",
     "name": "stdout",
     "text": [
      "1300\n"
     ]
    }
   ],
   "source": [
    "player = uscf_elo.Player(rating=None, nr_games_played=7, nr_wins=0, nr_losses=7)\n",
    "print(player.initialized_rating)"
   ]
  }
 ]
}