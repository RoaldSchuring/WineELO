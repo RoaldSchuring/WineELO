{
 "metadata": {
  "language_info": {
   "codemirror_mode": {
    "name": "ipython",
    "version": 3
   },
   "file_extension": ".py",
   "mimetype": "text/x-python",
   "name": "python",
   "nbconvert_exporter": "python",
   "pygments_lexer": "ipython3",
   "version": "3.9.2"
  },
  "orig_nbformat": 2,
  "kernelspec": {
   "name": "python392jvsc74a57bd0767d51c1340bd893661ea55ea3124f6de3c7a262a8b4abca0554b478b1e2ff90",
   "display_name": "Python 3.9.2 64-bit"
  },
  "metadata": {
   "interpreter": {
    "hash": "767d51c1340bd893661ea55ea3124f6de3c7a262a8b4abca0554b478b1e2ff90"
   }
  }
 },
 "nbformat": 4,
 "nbformat_minor": 2,
 "cells": [
  {
   "cell_type": "code",
   "execution_count": 1,
   "metadata": {},
   "outputs": [],
   "source": [
    "import pandas as pd\n",
    "import numpy as np\n",
    "import os\n",
    "import json\n",
    "import time\n",
    "import datetime\n",
    "from chessratings import uscf_elo\n",
    "import wine_data_cleanup as wdc\n",
    "from matplotlib import pyplot as plt\n",
    "\n",
    "pd.set_option('mode.chained_assignment', None)"
   ]
  },
  {
   "source": [
    "The output files from our web scraper are JSONs. We first need to combine these JSONs into a single dataframe."
   ],
   "cell_type": "markdown",
   "metadata": {}
  },
  {
   "cell_type": "code",
   "execution_count": 2,
   "metadata": {
    "tags": []
   },
   "outputs": [
    {
     "output_type": "execute_result",
     "data": {
      "text/plain": [
       "     wine_id                    review_date review_time_ago vintage  rating  \\\n",
       "0  159717279  Thu, Apr 29th at 16:24:15 UTC      2 days ago    2019     3.5   \n",
       "1  157184020  Wed, Apr 28th at 15:59:40 UTC      3 days ago    2018     3.0   \n",
       "2  160175069  Mon, Apr 26th at 16:21:29 UTC      5 days ago    2019     4.0   \n",
       "3  168019781  Sun, Apr 25th at 15:56:30 UTC      6 days ago    2019     3.0   \n",
       "4  163444783  Fri, Apr 23rd at 15:53:49 UTC      8 days ago    2020     3.5   \n",
       "\n",
       "                                    wine_name                producer  \\\n",
       "0                                     Chianti                   Sensi   \n",
       "1  La Chapelle de Pied Vaurias Côtes-du-Rhône  Vignerons de l'Enclave   \n",
       "2     Valpolicella Ripasso Classico Superiore             Villa Mondi   \n",
       "3                           Vida Libre Blanco            Carlos Ruben   \n",
       "4                                   MV Malbec       Mendoza Vineyards   \n",
       "\n",
       "            region_name country_name average_rating nr_ratings  reviewer  \\\n",
       "0               Chianti        Italy            3,3        279  30112979   \n",
       "1        Côtes-du-Rhône       France            3,3        264  30112979   \n",
       "2  Valpolicella Ripasso        Italy            3,7         89  30112979   \n",
       "3        Vino de España        Spain            0,0          2  30112979   \n",
       "4               Mendoza    Argentina            3,7        148  30112979   \n",
       "\n",
       "                 scrape_date  \n",
       "0 2021-05-01 20:02:23.750630  \n",
       "1 2021-05-01 20:02:23.750630  \n",
       "2 2021-05-01 20:02:23.750630  \n",
       "3 2021-05-01 20:02:23.750630  \n",
       "4 2021-05-01 20:02:23.750630  "
      ],
      "text/html": "<div>\n<style scoped>\n    .dataframe tbody tr th:only-of-type {\n        vertical-align: middle;\n    }\n\n    .dataframe tbody tr th {\n        vertical-align: top;\n    }\n\n    .dataframe thead th {\n        text-align: right;\n    }\n</style>\n<table border=\"1\" class=\"dataframe\">\n  <thead>\n    <tr style=\"text-align: right;\">\n      <th></th>\n      <th>wine_id</th>\n      <th>review_date</th>\n      <th>review_time_ago</th>\n      <th>vintage</th>\n      <th>rating</th>\n      <th>wine_name</th>\n      <th>producer</th>\n      <th>region_name</th>\n      <th>country_name</th>\n      <th>average_rating</th>\n      <th>nr_ratings</th>\n      <th>reviewer</th>\n      <th>scrape_date</th>\n    </tr>\n  </thead>\n  <tbody>\n    <tr>\n      <th>0</th>\n      <td>159717279</td>\n      <td>Thu, Apr 29th at 16:24:15 UTC</td>\n      <td>2 days ago</td>\n      <td>2019</td>\n      <td>3.5</td>\n      <td>Chianti</td>\n      <td>Sensi</td>\n      <td>Chianti</td>\n      <td>Italy</td>\n      <td>3,3</td>\n      <td>279</td>\n      <td>30112979</td>\n      <td>2021-05-01 20:02:23.750630</td>\n    </tr>\n    <tr>\n      <th>1</th>\n      <td>157184020</td>\n      <td>Wed, Apr 28th at 15:59:40 UTC</td>\n      <td>3 days ago</td>\n      <td>2018</td>\n      <td>3.0</td>\n      <td>La Chapelle de Pied Vaurias Côtes-du-Rhône</td>\n      <td>Vignerons de l'Enclave</td>\n      <td>Côtes-du-Rhône</td>\n      <td>France</td>\n      <td>3,3</td>\n      <td>264</td>\n      <td>30112979</td>\n      <td>2021-05-01 20:02:23.750630</td>\n    </tr>\n    <tr>\n      <th>2</th>\n      <td>160175069</td>\n      <td>Mon, Apr 26th at 16:21:29 UTC</td>\n      <td>5 days ago</td>\n      <td>2019</td>\n      <td>4.0</td>\n      <td>Valpolicella Ripasso Classico Superiore</td>\n      <td>Villa Mondi</td>\n      <td>Valpolicella Ripasso</td>\n      <td>Italy</td>\n      <td>3,7</td>\n      <td>89</td>\n      <td>30112979</td>\n      <td>2021-05-01 20:02:23.750630</td>\n    </tr>\n    <tr>\n      <th>3</th>\n      <td>168019781</td>\n      <td>Sun, Apr 25th at 15:56:30 UTC</td>\n      <td>6 days ago</td>\n      <td>2019</td>\n      <td>3.0</td>\n      <td>Vida Libre Blanco</td>\n      <td>Carlos Ruben</td>\n      <td>Vino de España</td>\n      <td>Spain</td>\n      <td>0,0</td>\n      <td>2</td>\n      <td>30112979</td>\n      <td>2021-05-01 20:02:23.750630</td>\n    </tr>\n    <tr>\n      <th>4</th>\n      <td>163444783</td>\n      <td>Fri, Apr 23rd at 15:53:49 UTC</td>\n      <td>8 days ago</td>\n      <td>2020</td>\n      <td>3.5</td>\n      <td>MV Malbec</td>\n      <td>Mendoza Vineyards</td>\n      <td>Mendoza</td>\n      <td>Argentina</td>\n      <td>3,7</td>\n      <td>148</td>\n      <td>30112979</td>\n      <td>2021-05-01 20:02:23.750630</td>\n    </tr>\n  </tbody>\n</table>\n</div>"
     },
     "metadata": {},
     "execution_count": 2
    }
   ],
   "source": [
    "all_wine_reviews = []\n",
    "for f in os.listdir('raw_data'):\n",
    "    filename = 'raw_data/' + f\n",
    "    with open(filename, 'r') as contents:\n",
    "        user_wine_reviews = json.loads(contents.read())\n",
    "        user_id = f.split('.')[0]\n",
    "        scrape_date_unix = os.path.getmtime(filename)\n",
    "        scrape_date = datetime.datetime.fromtimestamp(scrape_date_unix)\n",
    "        for u in user_wine_reviews:\n",
    "            u['reviewer'] = user_id\n",
    "            u['scrape_date'] = scrape_date\n",
    "            all_wine_reviews.append(u)\n",
    "\n",
    "wine_review_df = pd.json_normalize(all_wine_reviews)\n",
    "wine_review_df.head()"
   ]
  },
  {
   "source": [
    "We can now use our raw datafile to create two tables: \n",
    "\n",
    "1. A table containing wine metadata that we can use to slice and dice our results during analysis\n",
    "2. A table we can use to feed data into our ELO algorithm"
   ],
   "cell_type": "markdown",
   "metadata": {}
  },
  {
   "cell_type": "code",
   "execution_count": 3,
   "metadata": {},
   "outputs": [
    {
     "output_type": "execute_result",
     "data": {
      "text/plain": [
       "          vintage                                   wine_name  \\\n",
       "wine_id                                                         \n",
       "159717279    2019                                     Chianti   \n",
       "157184020    2018  La Chapelle de Pied Vaurias Côtes-du-Rhône   \n",
       "160175069    2019     Valpolicella Ripasso Classico Superiore   \n",
       "168019781    2019                           Vida Libre Blanco   \n",
       "163444783    2020                                   MV Malbec   \n",
       "\n",
       "                         producer           region_name country_name  \\\n",
       "wine_id                                                                \n",
       "159717279                   Sensi               Chianti        Italy   \n",
       "157184020  Vignerons de l'Enclave        Côtes-du-Rhône       France   \n",
       "160175069             Villa Mondi  Valpolicella Ripasso        Italy   \n",
       "168019781            Carlos Ruben        Vino de España        Spain   \n",
       "163444783       Mendoza Vineyards               Mendoza    Argentina   \n",
       "\n",
       "          nr_ratings  \n",
       "wine_id               \n",
       "159717279        279  \n",
       "157184020        264  \n",
       "160175069         89  \n",
       "168019781          2  \n",
       "163444783        148  "
      ],
      "text/html": "<div>\n<style scoped>\n    .dataframe tbody tr th:only-of-type {\n        vertical-align: middle;\n    }\n\n    .dataframe tbody tr th {\n        vertical-align: top;\n    }\n\n    .dataframe thead th {\n        text-align: right;\n    }\n</style>\n<table border=\"1\" class=\"dataframe\">\n  <thead>\n    <tr style=\"text-align: right;\">\n      <th></th>\n      <th>vintage</th>\n      <th>wine_name</th>\n      <th>producer</th>\n      <th>region_name</th>\n      <th>country_name</th>\n      <th>nr_ratings</th>\n    </tr>\n    <tr>\n      <th>wine_id</th>\n      <th></th>\n      <th></th>\n      <th></th>\n      <th></th>\n      <th></th>\n      <th></th>\n    </tr>\n  </thead>\n  <tbody>\n    <tr>\n      <th>159717279</th>\n      <td>2019</td>\n      <td>Chianti</td>\n      <td>Sensi</td>\n      <td>Chianti</td>\n      <td>Italy</td>\n      <td>279</td>\n    </tr>\n    <tr>\n      <th>157184020</th>\n      <td>2018</td>\n      <td>La Chapelle de Pied Vaurias Côtes-du-Rhône</td>\n      <td>Vignerons de l'Enclave</td>\n      <td>Côtes-du-Rhône</td>\n      <td>France</td>\n      <td>264</td>\n    </tr>\n    <tr>\n      <th>160175069</th>\n      <td>2019</td>\n      <td>Valpolicella Ripasso Classico Superiore</td>\n      <td>Villa Mondi</td>\n      <td>Valpolicella Ripasso</td>\n      <td>Italy</td>\n      <td>89</td>\n    </tr>\n    <tr>\n      <th>168019781</th>\n      <td>2019</td>\n      <td>Vida Libre Blanco</td>\n      <td>Carlos Ruben</td>\n      <td>Vino de España</td>\n      <td>Spain</td>\n      <td>2</td>\n    </tr>\n    <tr>\n      <th>163444783</th>\n      <td>2020</td>\n      <td>MV Malbec</td>\n      <td>Mendoza Vineyards</td>\n      <td>Mendoza</td>\n      <td>Argentina</td>\n      <td>148</td>\n    </tr>\n  </tbody>\n</table>\n</div>"
     },
     "metadata": {},
     "execution_count": 3
    }
   ],
   "source": [
    "# create a dataframe containing metadata about each wine in our dataset\n",
    "\n",
    "wine_metadata = wine_review_df[['wine_id', 'vintage', 'wine_name', 'producer', 'region_name', 'country_name', 'nr_ratings']].drop_duplicates()\n",
    "# wine_metadata['wine_vintage_id'] = wine_metadata.apply(lambda x: x['wine_id'] + '-' + x['vintage'], axis=1)\n",
    "wine_metadata.set_index('wine_id', inplace=True)\n",
    "wine_metadata.head()"
   ]
  },
  {
   "source": [
    "Now, we can proceed with our second table - we first need to do some cleanup before we can convert our wine ratings to ELO scores. \n",
    "\n",
    "A key decision here is how we want to define a 'player' for the purposes of our ELO algorithm. In our dataset, the same wine from different vintages each have their own unique ID. This is what we want, since wines may differ drastically from year to year depending on grapegrowing and winemaking factors. A *player* is therefore defined as a given wine of a given vintage. "
   ],
   "cell_type": "markdown",
   "metadata": {}
  },
  {
   "cell_type": "code",
   "execution_count": 4,
   "metadata": {
    "tags": []
   },
   "outputs": [
    {
     "output_type": "execute_result",
     "data": {
      "text/plain": [
       "           reviewer vintage  rating final_review_date\n",
       "wine_id                                              \n",
       "159717279  30112979    2019     3.5        2021-04-29\n",
       "157184020  30112979    2018     3.0        2021-04-28\n",
       "160175069  30112979    2019     4.0        2021-04-26\n",
       "168019781  30112979    2019     3.0        2021-04-25\n",
       "163444783  30112979    2020     3.5        2021-04-23"
      ],
      "text/html": "<div>\n<style scoped>\n    .dataframe tbody tr th:only-of-type {\n        vertical-align: middle;\n    }\n\n    .dataframe tbody tr th {\n        vertical-align: top;\n    }\n\n    .dataframe thead th {\n        text-align: right;\n    }\n</style>\n<table border=\"1\" class=\"dataframe\">\n  <thead>\n    <tr style=\"text-align: right;\">\n      <th></th>\n      <th>reviewer</th>\n      <th>vintage</th>\n      <th>rating</th>\n      <th>final_review_date</th>\n    </tr>\n    <tr>\n      <th>wine_id</th>\n      <th></th>\n      <th></th>\n      <th></th>\n      <th></th>\n    </tr>\n  </thead>\n  <tbody>\n    <tr>\n      <th>159717279</th>\n      <td>30112979</td>\n      <td>2019</td>\n      <td>3.5</td>\n      <td>2021-04-29</td>\n    </tr>\n    <tr>\n      <th>157184020</th>\n      <td>30112979</td>\n      <td>2018</td>\n      <td>3.0</td>\n      <td>2021-04-28</td>\n    </tr>\n    <tr>\n      <th>160175069</th>\n      <td>30112979</td>\n      <td>2019</td>\n      <td>4.0</td>\n      <td>2021-04-26</td>\n    </tr>\n    <tr>\n      <th>168019781</th>\n      <td>30112979</td>\n      <td>2019</td>\n      <td>3.0</td>\n      <td>2021-04-25</td>\n    </tr>\n    <tr>\n      <th>163444783</th>\n      <td>30112979</td>\n      <td>2020</td>\n      <td>3.5</td>\n      <td>2021-04-23</td>\n    </tr>\n  </tbody>\n</table>\n</div>"
     },
     "metadata": {},
     "execution_count": 4
    }
   ],
   "source": [
    "wine_reviews_cleaned = wdc.clean_wine_reviews(wine_review_df).set_index('wine_id')\n",
    "wine_reviews_cleaned.head()"
   ]
  },
  {
   "source": [
    "We're almost ready to compute our ELO scores. We still, however, need to do a key transformation. Currently, our wine ratings are scores out of 5. In order to compute an ELO score for our wines, we will need to model this as a zero-sum problem. We will do this by creating pairwise combinations of wines reviewed by the same person on the same day. A hypothetical example to illustrate:\n",
    "\n",
    "Reviewer John reviewed 3 different wines on April 29th, 2021: wine A, wine B and wine C. Wine A received 5/5 points and wines B and C received 4/5. As a head-to-head zero sum game these results would look as follows:\n",
    "\n",
    "- Wine A vs. Wine B: Wine A wins, Wine B loses\n",
    "- Wine A vs. Wine C: Wine A wins, Wine C loses\n",
    "- Wine B vs. Wine C: Draw\n",
    "\n",
    "These three head-to-head **matches** can be grouped together in what we will call a **tournament**. \n",
    "\n",
    "\n"
   ],
   "cell_type": "markdown",
   "metadata": {}
  },
  {
   "cell_type": "code",
   "execution_count": 7,
   "metadata": {},
   "outputs": [
    {
     "output_type": "execute_result",
     "data": {
      "text/plain": [
       "Empty DataFrame\n",
       "Columns: [wine_id, tournament_date, tournament_number, elo_rating, nr_games_played, nr_wins, nr_losses, reviewer]\n",
       "Index: []"
      ],
      "text/html": "<div>\n<style scoped>\n    .dataframe tbody tr th:only-of-type {\n        vertical-align: middle;\n    }\n\n    .dataframe tbody tr th {\n        vertical-align: top;\n    }\n\n    .dataframe thead th {\n        text-align: right;\n    }\n</style>\n<table border=\"1\" class=\"dataframe\">\n  <thead>\n    <tr style=\"text-align: right;\">\n      <th></th>\n      <th>wine_id</th>\n      <th>tournament_date</th>\n      <th>tournament_number</th>\n      <th>elo_rating</th>\n      <th>nr_games_played</th>\n      <th>nr_wins</th>\n      <th>nr_losses</th>\n      <th>reviewer</th>\n    </tr>\n  </thead>\n  <tbody>\n  </tbody>\n</table>\n</div>"
     },
     "metadata": {},
     "execution_count": 7
    }
   ],
   "source": [
    "# we need to define a score lookup table, which we will use to \n",
    "score_lookup_table_columns = ['wine_id', 'tournament_date', 'tournament_number', 'elo_rating', 'nr_games_played', 'nr_wins', 'nr_losses', 'reviewer']\n",
    "score_lookup_table = pd.DataFrame(columns=score_lookup_table_columns)\n",
    "all_results = wdc.run_tournaments(wine_reviews_cleaned, score_lookup_table)\n",
    "\n",
    "all_results.to_csv('all_results.csv')\n",
    "all_results.head()"
   ]
  },
  {
   "cell_type": "code",
   "execution_count": 6,
   "metadata": {},
   "outputs": [
    {
     "output_type": "execute_result",
     "data": {
      "text/plain": [
       "                            wine_id tournament_date  nr_games_played  nr_wins  \\\n",
       "0  (100011128-2015, 100011128-2015)      2017-07-31                3        0   \n",
       "1    (10001226-2014, 10001226-2014)      2017-09-14               10        2   \n",
       "2    (10001717-2013, 10001717-2013)      2017-08-28               21       13   \n",
       "3    (10002017-2014, 10002017-2014)      2019-09-18               13        6   \n",
       "4  (100020527-2016, 100020527-2016)      2019-05-17                6        6   \n",
       "5  (100028032-2014, 100028032-2014)      2018-05-14               11        3   \n",
       "6  (100039622-2016, 100039622-2016)      2019-08-10               15        0   \n",
       "7  (100040260-2016, 100040260-2016)      2018-11-11               24       10   \n",
       "8  (100040593-N.V., 100040593-N.V.)      2020-05-01                8        2   \n",
       "9  (100045573-2016, 100045573-2016)      2018-08-29                3        0   \n",
       "\n",
       "   nr_draws  nr_losses  tournament_number   elo_rating  \n",
       "0       1.0          2                  1  1033.333333  \n",
       "1       2.0          6                  1  1119.611574  \n",
       "2       8.0          0                  3  1652.481579  \n",
       "3       5.0          2                  1  1415.577358  \n",
       "4       0.0          0                  1  1939.876371  \n",
       "5       1.0          7                  1  1182.475851  \n",
       "6       4.0         11                  1   980.648122  \n",
       "7       8.0          6                  7  1492.198008  \n",
       "8       1.0          5                  2  1179.848370  \n",
       "9       0.0          3                  1   500.000000  "
      ],
      "text/html": "<div>\n<style scoped>\n    .dataframe tbody tr th:only-of-type {\n        vertical-align: middle;\n    }\n\n    .dataframe tbody tr th {\n        vertical-align: top;\n    }\n\n    .dataframe thead th {\n        text-align: right;\n    }\n</style>\n<table border=\"1\" class=\"dataframe\">\n  <thead>\n    <tr style=\"text-align: right;\">\n      <th></th>\n      <th>wine_id</th>\n      <th>tournament_date</th>\n      <th>nr_games_played</th>\n      <th>nr_wins</th>\n      <th>nr_draws</th>\n      <th>nr_losses</th>\n      <th>tournament_number</th>\n      <th>elo_rating</th>\n    </tr>\n  </thead>\n  <tbody>\n    <tr>\n      <th>0</th>\n      <td>(100011128-2015, 100011128-2015)</td>\n      <td>2017-07-31</td>\n      <td>3</td>\n      <td>0</td>\n      <td>1.0</td>\n      <td>2</td>\n      <td>1</td>\n      <td>1033.333333</td>\n    </tr>\n    <tr>\n      <th>1</th>\n      <td>(10001226-2014, 10001226-2014)</td>\n      <td>2017-09-14</td>\n      <td>10</td>\n      <td>2</td>\n      <td>2.0</td>\n      <td>6</td>\n      <td>1</td>\n      <td>1119.611574</td>\n    </tr>\n    <tr>\n      <th>2</th>\n      <td>(10001717-2013, 10001717-2013)</td>\n      <td>2017-08-28</td>\n      <td>21</td>\n      <td>13</td>\n      <td>8.0</td>\n      <td>0</td>\n      <td>3</td>\n      <td>1652.481579</td>\n    </tr>\n    <tr>\n      <th>3</th>\n      <td>(10002017-2014, 10002017-2014)</td>\n      <td>2019-09-18</td>\n      <td>13</td>\n      <td>6</td>\n      <td>5.0</td>\n      <td>2</td>\n      <td>1</td>\n      <td>1415.577358</td>\n    </tr>\n    <tr>\n      <th>4</th>\n      <td>(100020527-2016, 100020527-2016)</td>\n      <td>2019-05-17</td>\n      <td>6</td>\n      <td>6</td>\n      <td>0.0</td>\n      <td>0</td>\n      <td>1</td>\n      <td>1939.876371</td>\n    </tr>\n    <tr>\n      <th>5</th>\n      <td>(100028032-2014, 100028032-2014)</td>\n      <td>2018-05-14</td>\n      <td>11</td>\n      <td>3</td>\n      <td>1.0</td>\n      <td>7</td>\n      <td>1</td>\n      <td>1182.475851</td>\n    </tr>\n    <tr>\n      <th>6</th>\n      <td>(100039622-2016, 100039622-2016)</td>\n      <td>2019-08-10</td>\n      <td>15</td>\n      <td>0</td>\n      <td>4.0</td>\n      <td>11</td>\n      <td>1</td>\n      <td>980.648122</td>\n    </tr>\n    <tr>\n      <th>7</th>\n      <td>(100040260-2016, 100040260-2016)</td>\n      <td>2018-11-11</td>\n      <td>24</td>\n      <td>10</td>\n      <td>8.0</td>\n      <td>6</td>\n      <td>7</td>\n      <td>1492.198008</td>\n    </tr>\n    <tr>\n      <th>8</th>\n      <td>(100040593-N.V., 100040593-N.V.)</td>\n      <td>2020-05-01</td>\n      <td>8</td>\n      <td>2</td>\n      <td>1.0</td>\n      <td>5</td>\n      <td>2</td>\n      <td>1179.848370</td>\n    </tr>\n    <tr>\n      <th>9</th>\n      <td>(100045573-2016, 100045573-2016)</td>\n      <td>2018-08-29</td>\n      <td>3</td>\n      <td>0</td>\n      <td>0.0</td>\n      <td>3</td>\n      <td>1</td>\n      <td>500.000000</td>\n    </tr>\n  </tbody>\n</table>\n</div>"
     },
     "metadata": {},
     "execution_count": 6
    }
   ],
   "source": [
    "results_grouped = all_results.groupby('wine_id').agg({'tournament_date': 'max', 'nr_games_played': 'sum', 'nr_wins': 'sum', 'nr_draws': 'sum', 'nr_losses': 'sum', 'tournament_number': 'max'}).reset_index()\n",
    "\n",
    "results_grouped_with_score = pd.merge(results_grouped, all_results[['wine_id', 'tournament_date', 'elo_rating']], how='left', on=['wine_id', 'tournament_date']).drop_duplicates(subset=['wine_id'])\n",
    "\n",
    "results_grouped_with_score.head(10)"
   ]
  },
  {
   "cell_type": "code",
   "execution_count": 7,
   "metadata": {},
   "outputs": [
    {
     "output_type": "execute_result",
     "data": {
      "text/plain": [
       "                                 wine_id tournament_date  nr_games_played  \\\n",
       "164383      (3410815-2010, 3410815-2010)      2020-09-17               73   \n",
       "58199   (152394404-2017, 152394404-2017)      2021-03-27              168   \n",
       "20153       (1389995-2004, 1389995-2004)      2021-04-13               65   \n",
       "77031   (156218820-2018, 156218820-2018)      2021-04-05               99   \n",
       "130037      (1787087-2005, 1787087-2005)      2020-12-29               77   \n",
       "36222   (145787275-2015, 145787275-2015)      2019-09-08               49   \n",
       "134423      (1934046-2011, 1934046-2011)      2020-10-13              263   \n",
       "176295      (4478722-2003, 4478722-2003)      2020-02-17              181   \n",
       "16939       (1330837-2009, 1330837-2009)      2020-09-13               61   \n",
       "139997      (2123459-2010, 2123459-2010)      2020-04-29               53   \n",
       "183339            (5720-2006, 5720-2006)      2019-01-15              202   \n",
       "112832  (161550405-2018, 161550405-2018)      2021-03-20               68   \n",
       "174068      (4263124-2014, 4263124-2014)      2021-04-23              107   \n",
       "13770       (1282334-2011, 1282334-2011)      2019-05-30               54   \n",
       "52736   (151352145-2017, 151352145-2017)      2021-02-13               47   \n",
       "\n",
       "        nr_wins  nr_draws  nr_losses  tournament_number   elo_rating  \n",
       "164383       61       9.0          3                 11  2680.572524  \n",
       "58199       118      45.0          5                 21  2612.261545  \n",
       "20153        54      11.0          0                 10  2054.637657  \n",
       "77031        55      35.0          9                 25  1942.347178  \n",
       "130037       63      13.0          1                 12  1887.860217  \n",
       "36222        46       3.0          0                 10  1880.524056  \n",
       "134423      243      16.0          4                 10  1853.839493  \n",
       "176295      154      22.0          5                 10  1828.600441  \n",
       "16939        32      25.0          4                 11  1824.423202  \n",
       "139997       39      13.0          1                 10  1823.664560  \n",
       "183339      151      50.0          1                 11  1822.846338  \n",
       "112832       41      16.0         11                 11  1818.139706  \n",
       "174068       70      28.0          9                 16  1816.340146  \n",
       "13770        37      11.0          6                 11  1815.137669  \n",
       "52736        39       6.0          2                 11  1812.575544  "
      ],
      "text/html": "<div>\n<style scoped>\n    .dataframe tbody tr th:only-of-type {\n        vertical-align: middle;\n    }\n\n    .dataframe tbody tr th {\n        vertical-align: top;\n    }\n\n    .dataframe thead th {\n        text-align: right;\n    }\n</style>\n<table border=\"1\" class=\"dataframe\">\n  <thead>\n    <tr style=\"text-align: right;\">\n      <th></th>\n      <th>wine_id</th>\n      <th>tournament_date</th>\n      <th>nr_games_played</th>\n      <th>nr_wins</th>\n      <th>nr_draws</th>\n      <th>nr_losses</th>\n      <th>tournament_number</th>\n      <th>elo_rating</th>\n    </tr>\n  </thead>\n  <tbody>\n    <tr>\n      <th>164383</th>\n      <td>(3410815-2010, 3410815-2010)</td>\n      <td>2020-09-17</td>\n      <td>73</td>\n      <td>61</td>\n      <td>9.0</td>\n      <td>3</td>\n      <td>11</td>\n      <td>2680.572524</td>\n    </tr>\n    <tr>\n      <th>58199</th>\n      <td>(152394404-2017, 152394404-2017)</td>\n      <td>2021-03-27</td>\n      <td>168</td>\n      <td>118</td>\n      <td>45.0</td>\n      <td>5</td>\n      <td>21</td>\n      <td>2612.261545</td>\n    </tr>\n    <tr>\n      <th>20153</th>\n      <td>(1389995-2004, 1389995-2004)</td>\n      <td>2021-04-13</td>\n      <td>65</td>\n      <td>54</td>\n      <td>11.0</td>\n      <td>0</td>\n      <td>10</td>\n      <td>2054.637657</td>\n    </tr>\n    <tr>\n      <th>77031</th>\n      <td>(156218820-2018, 156218820-2018)</td>\n      <td>2021-04-05</td>\n      <td>99</td>\n      <td>55</td>\n      <td>35.0</td>\n      <td>9</td>\n      <td>25</td>\n      <td>1942.347178</td>\n    </tr>\n    <tr>\n      <th>130037</th>\n      <td>(1787087-2005, 1787087-2005)</td>\n      <td>2020-12-29</td>\n      <td>77</td>\n      <td>63</td>\n      <td>13.0</td>\n      <td>1</td>\n      <td>12</td>\n      <td>1887.860217</td>\n    </tr>\n    <tr>\n      <th>36222</th>\n      <td>(145787275-2015, 145787275-2015)</td>\n      <td>2019-09-08</td>\n      <td>49</td>\n      <td>46</td>\n      <td>3.0</td>\n      <td>0</td>\n      <td>10</td>\n      <td>1880.524056</td>\n    </tr>\n    <tr>\n      <th>134423</th>\n      <td>(1934046-2011, 1934046-2011)</td>\n      <td>2020-10-13</td>\n      <td>263</td>\n      <td>243</td>\n      <td>16.0</td>\n      <td>4</td>\n      <td>10</td>\n      <td>1853.839493</td>\n    </tr>\n    <tr>\n      <th>176295</th>\n      <td>(4478722-2003, 4478722-2003)</td>\n      <td>2020-02-17</td>\n      <td>181</td>\n      <td>154</td>\n      <td>22.0</td>\n      <td>5</td>\n      <td>10</td>\n      <td>1828.600441</td>\n    </tr>\n    <tr>\n      <th>16939</th>\n      <td>(1330837-2009, 1330837-2009)</td>\n      <td>2020-09-13</td>\n      <td>61</td>\n      <td>32</td>\n      <td>25.0</td>\n      <td>4</td>\n      <td>11</td>\n      <td>1824.423202</td>\n    </tr>\n    <tr>\n      <th>139997</th>\n      <td>(2123459-2010, 2123459-2010)</td>\n      <td>2020-04-29</td>\n      <td>53</td>\n      <td>39</td>\n      <td>13.0</td>\n      <td>1</td>\n      <td>10</td>\n      <td>1823.664560</td>\n    </tr>\n    <tr>\n      <th>183339</th>\n      <td>(5720-2006, 5720-2006)</td>\n      <td>2019-01-15</td>\n      <td>202</td>\n      <td>151</td>\n      <td>50.0</td>\n      <td>1</td>\n      <td>11</td>\n      <td>1822.846338</td>\n    </tr>\n    <tr>\n      <th>112832</th>\n      <td>(161550405-2018, 161550405-2018)</td>\n      <td>2021-03-20</td>\n      <td>68</td>\n      <td>41</td>\n      <td>16.0</td>\n      <td>11</td>\n      <td>11</td>\n      <td>1818.139706</td>\n    </tr>\n    <tr>\n      <th>174068</th>\n      <td>(4263124-2014, 4263124-2014)</td>\n      <td>2021-04-23</td>\n      <td>107</td>\n      <td>70</td>\n      <td>28.0</td>\n      <td>9</td>\n      <td>16</td>\n      <td>1816.340146</td>\n    </tr>\n    <tr>\n      <th>13770</th>\n      <td>(1282334-2011, 1282334-2011)</td>\n      <td>2019-05-30</td>\n      <td>54</td>\n      <td>37</td>\n      <td>11.0</td>\n      <td>6</td>\n      <td>11</td>\n      <td>1815.137669</td>\n    </tr>\n    <tr>\n      <th>52736</th>\n      <td>(151352145-2017, 151352145-2017)</td>\n      <td>2021-02-13</td>\n      <td>47</td>\n      <td>39</td>\n      <td>6.0</td>\n      <td>2</td>\n      <td>11</td>\n      <td>1812.575544</td>\n    </tr>\n  </tbody>\n</table>\n</div>"
     },
     "metadata": {},
     "execution_count": 7
    }
   ],
   "source": [
    "multi_tournament_contenders = results_grouped_with_score.loc[(results_grouped_with_score['tournament_number'] >= 10) & (results_grouped_with_score['nr_games_played'] > 25)]\n",
    "\n",
    "multi_tournament_contenders.sort_values(by=['elo_rating'], ascending=False).head(15)"
   ]
  },
  {
   "cell_type": "code",
   "execution_count": 8,
   "metadata": {},
   "outputs": [
    {
     "output_type": "execute_result",
     "data": {
      "text/plain": [
       "(0, 9)"
      ]
     },
     "metadata": {},
     "execution_count": 8
    }
   ],
   "source": [
    "scores_and_metadata = pd.merge(multi_tournament_contenders, wine_metadata, left_on='wine_id', right_index=True).drop_duplicates(subset=['wine_id'])\n",
    "scores_and_metadata = scores_and_metadata[['wine_id', 'vintage', 'tournament_date', 'elo_rating', 'tournament_number', 'wine_name', 'producer', 'region_name', 'country_name']]\n",
    "\n",
    "# scores_and_metadata_plus_ratings = pd.merge(scores_and_metadata, wine_review_df, on='wine_id').drop_duplicates(subset=['wine_vintage_id'])\n",
    "# scores_and_metadata_plus_ratings = scores_and_metadata_plus_ratings[['wine_vintage_id', 'wine_id', 'elo_rating', 'rating', 'tournament_number', 'wine_name', 'producer', 'region_name', 'country_name']]\n",
    "\n",
    "scores_and_metadata.sort_values(by=['tournament_number'], ascending=False).shape"
   ]
  },
  {
   "cell_type": "code",
   "execution_count": 9,
   "metadata": {},
   "outputs": [
    {
     "output_type": "execute_result",
     "data": {
      "text/plain": [
       "Empty DataFrame\n",
       "Columns: [wine_id, vintage, tournament_date, elo_rating, tournament_number, wine_name, producer, region_name, country_name]\n",
       "Index: []"
      ],
      "text/html": "<div>\n<style scoped>\n    .dataframe tbody tr th:only-of-type {\n        vertical-align: middle;\n    }\n\n    .dataframe tbody tr th {\n        vertical-align: top;\n    }\n\n    .dataframe thead th {\n        text-align: right;\n    }\n</style>\n<table border=\"1\" class=\"dataframe\">\n  <thead>\n    <tr style=\"text-align: right;\">\n      <th></th>\n      <th>wine_id</th>\n      <th>vintage</th>\n      <th>tournament_date</th>\n      <th>elo_rating</th>\n      <th>tournament_number</th>\n      <th>wine_name</th>\n      <th>producer</th>\n      <th>region_name</th>\n      <th>country_name</th>\n    </tr>\n  </thead>\n  <tbody>\n  </tbody>\n</table>\n</div>"
     },
     "metadata": {},
     "execution_count": 9
    }
   ],
   "source": [
    "scores_and_metadata.loc[scores_and_metadata['producer'] == \"Dow's\"]"
   ]
  },
  {
   "cell_type": "code",
   "execution_count": 10,
   "metadata": {},
   "outputs": [
    {
     "output_type": "error",
     "ename": "KeyError",
     "evalue": "'wine_vintage_id'",
     "traceback": [
      "\u001b[0;31m---------------------------------------------------------------------------\u001b[0m",
      "\u001b[0;31mKeyError\u001b[0m                                  Traceback (most recent call last)",
      "\u001b[0;32m~/.local/lib/python3.9/site-packages/pandas/core/indexes/base.py\u001b[0m in \u001b[0;36mget_loc\u001b[0;34m(self, key, method, tolerance)\u001b[0m\n\u001b[1;32m   3079\u001b[0m             \u001b[0;32mtry\u001b[0m\u001b[0;34m:\u001b[0m\u001b[0;34m\u001b[0m\u001b[0;34m\u001b[0m\u001b[0m\n\u001b[0;32m-> 3080\u001b[0;31m                 \u001b[0;32mreturn\u001b[0m \u001b[0mself\u001b[0m\u001b[0;34m.\u001b[0m\u001b[0m_engine\u001b[0m\u001b[0;34m.\u001b[0m\u001b[0mget_loc\u001b[0m\u001b[0;34m(\u001b[0m\u001b[0mcasted_key\u001b[0m\u001b[0;34m)\u001b[0m\u001b[0;34m\u001b[0m\u001b[0;34m\u001b[0m\u001b[0m\n\u001b[0m\u001b[1;32m   3081\u001b[0m             \u001b[0;32mexcept\u001b[0m \u001b[0mKeyError\u001b[0m \u001b[0;32mas\u001b[0m \u001b[0merr\u001b[0m\u001b[0;34m:\u001b[0m\u001b[0;34m\u001b[0m\u001b[0;34m\u001b[0m\u001b[0m\n",
      "\u001b[0;32mpandas/_libs/index.pyx\u001b[0m in \u001b[0;36mpandas._libs.index.IndexEngine.get_loc\u001b[0;34m()\u001b[0m\n",
      "\u001b[0;32mpandas/_libs/index.pyx\u001b[0m in \u001b[0;36mpandas._libs.index.IndexEngine.get_loc\u001b[0;34m()\u001b[0m\n",
      "\u001b[0;32mpandas/_libs/hashtable_class_helper.pxi\u001b[0m in \u001b[0;36mpandas._libs.hashtable.PyObjectHashTable.get_item\u001b[0;34m()\u001b[0m\n",
      "\u001b[0;32mpandas/_libs/hashtable_class_helper.pxi\u001b[0m in \u001b[0;36mpandas._libs.hashtable.PyObjectHashTable.get_item\u001b[0;34m()\u001b[0m\n",
      "\u001b[0;31mKeyError\u001b[0m: 'wine_vintage_id'",
      "\nThe above exception was the direct cause of the following exception:\n",
      "\u001b[0;31mKeyError\u001b[0m                                  Traceback (most recent call last)",
      "\u001b[0;32m<ipython-input-10-9e6f6de1df43>\u001b[0m in \u001b[0;36m<module>\u001b[0;34m\u001b[0m\n\u001b[0;32m----> 1\u001b[0;31m \u001b[0mone_wine_results\u001b[0m \u001b[0;34m=\u001b[0m \u001b[0mall_results\u001b[0m\u001b[0;34m.\u001b[0m\u001b[0mloc\u001b[0m\u001b[0;34m[\u001b[0m\u001b[0mall_results\u001b[0m\u001b[0;34m[\u001b[0m\u001b[0;34m'wine_vintage_id'\u001b[0m\u001b[0;34m]\u001b[0m \u001b[0;34m==\u001b[0m \u001b[0;34m'1934046-2011'\u001b[0m\u001b[0;34m]\u001b[0m\u001b[0;34m\u001b[0m\u001b[0;34m\u001b[0m\u001b[0m\n\u001b[0m\u001b[1;32m      2\u001b[0m \u001b[0mone_wine_results\u001b[0m\u001b[0;34m\u001b[0m\u001b[0;34m\u001b[0m\u001b[0m\n",
      "\u001b[0;32m~/.local/lib/python3.9/site-packages/pandas/core/frame.py\u001b[0m in \u001b[0;36m__getitem__\u001b[0;34m(self, key)\u001b[0m\n\u001b[1;32m   3022\u001b[0m             \u001b[0;32mif\u001b[0m \u001b[0mself\u001b[0m\u001b[0;34m.\u001b[0m\u001b[0mcolumns\u001b[0m\u001b[0;34m.\u001b[0m\u001b[0mnlevels\u001b[0m \u001b[0;34m>\u001b[0m \u001b[0;36m1\u001b[0m\u001b[0;34m:\u001b[0m\u001b[0;34m\u001b[0m\u001b[0;34m\u001b[0m\u001b[0m\n\u001b[1;32m   3023\u001b[0m                 \u001b[0;32mreturn\u001b[0m \u001b[0mself\u001b[0m\u001b[0;34m.\u001b[0m\u001b[0m_getitem_multilevel\u001b[0m\u001b[0;34m(\u001b[0m\u001b[0mkey\u001b[0m\u001b[0;34m)\u001b[0m\u001b[0;34m\u001b[0m\u001b[0;34m\u001b[0m\u001b[0m\n\u001b[0;32m-> 3024\u001b[0;31m             \u001b[0mindexer\u001b[0m \u001b[0;34m=\u001b[0m \u001b[0mself\u001b[0m\u001b[0;34m.\u001b[0m\u001b[0mcolumns\u001b[0m\u001b[0;34m.\u001b[0m\u001b[0mget_loc\u001b[0m\u001b[0;34m(\u001b[0m\u001b[0mkey\u001b[0m\u001b[0;34m)\u001b[0m\u001b[0;34m\u001b[0m\u001b[0;34m\u001b[0m\u001b[0m\n\u001b[0m\u001b[1;32m   3025\u001b[0m             \u001b[0;32mif\u001b[0m \u001b[0mis_integer\u001b[0m\u001b[0;34m(\u001b[0m\u001b[0mindexer\u001b[0m\u001b[0;34m)\u001b[0m\u001b[0;34m:\u001b[0m\u001b[0;34m\u001b[0m\u001b[0;34m\u001b[0m\u001b[0m\n\u001b[1;32m   3026\u001b[0m                 \u001b[0mindexer\u001b[0m \u001b[0;34m=\u001b[0m \u001b[0;34m[\u001b[0m\u001b[0mindexer\u001b[0m\u001b[0;34m]\u001b[0m\u001b[0;34m\u001b[0m\u001b[0;34m\u001b[0m\u001b[0m\n",
      "\u001b[0;32m~/.local/lib/python3.9/site-packages/pandas/core/indexes/base.py\u001b[0m in \u001b[0;36mget_loc\u001b[0;34m(self, key, method, tolerance)\u001b[0m\n\u001b[1;32m   3080\u001b[0m                 \u001b[0;32mreturn\u001b[0m \u001b[0mself\u001b[0m\u001b[0;34m.\u001b[0m\u001b[0m_engine\u001b[0m\u001b[0;34m.\u001b[0m\u001b[0mget_loc\u001b[0m\u001b[0;34m(\u001b[0m\u001b[0mcasted_key\u001b[0m\u001b[0;34m)\u001b[0m\u001b[0;34m\u001b[0m\u001b[0;34m\u001b[0m\u001b[0m\n\u001b[1;32m   3081\u001b[0m             \u001b[0;32mexcept\u001b[0m \u001b[0mKeyError\u001b[0m \u001b[0;32mas\u001b[0m \u001b[0merr\u001b[0m\u001b[0;34m:\u001b[0m\u001b[0;34m\u001b[0m\u001b[0;34m\u001b[0m\u001b[0m\n\u001b[0;32m-> 3082\u001b[0;31m                 \u001b[0;32mraise\u001b[0m \u001b[0mKeyError\u001b[0m\u001b[0;34m(\u001b[0m\u001b[0mkey\u001b[0m\u001b[0;34m)\u001b[0m \u001b[0;32mfrom\u001b[0m \u001b[0merr\u001b[0m\u001b[0;34m\u001b[0m\u001b[0;34m\u001b[0m\u001b[0m\n\u001b[0m\u001b[1;32m   3083\u001b[0m \u001b[0;34m\u001b[0m\u001b[0m\n\u001b[1;32m   3084\u001b[0m         \u001b[0;32mif\u001b[0m \u001b[0mtolerance\u001b[0m \u001b[0;32mis\u001b[0m \u001b[0;32mnot\u001b[0m \u001b[0;32mNone\u001b[0m\u001b[0;34m:\u001b[0m\u001b[0;34m\u001b[0m\u001b[0;34m\u001b[0m\u001b[0m\n",
      "\u001b[0;31mKeyError\u001b[0m: 'wine_vintage_id'"
     ]
    }
   ],
   "source": [
    "one_wine_results = all_results.loc[all_results['wine_vintage_id'] == '1934046-2011']\n",
    "one_wine_results"
   ]
  },
  {
   "cell_type": "code",
   "execution_count": 66,
   "metadata": {},
   "outputs": [
    {
     "output_type": "execute_result",
     "data": {
      "text/plain": [
       "<AxesSubplot:xlabel='tournament_date'>"
      ]
     },
     "metadata": {},
     "execution_count": 66
    },
    {
     "output_type": "display_data",
     "data": {
      "text/plain": "<Figure size 432x288 with 1 Axes>",
      "image/svg+xml": "<?xml version=\"1.0\" encoding=\"utf-8\" standalone=\"no\"?>\n<!DOCTYPE svg PUBLIC \"-//W3C//DTD SVG 1.1//EN\"\n  \"http://www.w3.org/Graphics/SVG/1.1/DTD/svg11.dtd\">\n<svg height=\"260.469158pt\" version=\"1.1\" viewBox=\"0 0 381.65 260.469158\" width=\"381.65pt\" xmlns=\"http://www.w3.org/2000/svg\" xmlns:xlink=\"http://www.w3.org/1999/xlink\">\n <metadata>\n  <rdf:RDF xmlns:cc=\"http://creativecommons.org/ns#\" xmlns:dc=\"http://purl.org/dc/elements/1.1/\" xmlns:rdf=\"http://www.w3.org/1999/02/22-rdf-syntax-ns#\">\n   <cc:Work>\n    <dc:type rdf:resource=\"http://purl.org/dc/dcmitype/StillImage\"/>\n    <dc:date>2021-05-06T15:42:47.079129</dc:date>\n    <dc:format>image/svg+xml</dc:format>\n    <dc:creator>\n     <cc:Agent>\n      <dc:title>Matplotlib v3.4.1, https://matplotlib.org/</dc:title>\n     </cc:Agent>\n    </dc:creator>\n   </cc:Work>\n  </rdf:RDF>\n </metadata>\n <defs>\n  <style type=\"text/css\">*{stroke-linecap:butt;stroke-linejoin:round;}</style>\n </defs>\n <g id=\"figure_1\">\n  <g id=\"patch_1\">\n   <path d=\"M -0 260.469158 \nL 381.65 260.469158 \nL 381.65 0 \nL -0 0 \nz\n\" style=\"fill:none;\"/>\n  </g>\n  <g id=\"axes_1\">\n   <g id=\"patch_2\">\n    <path d=\"M 39.65 203.04 \nL 374.45 203.04 \nL 374.45 7.2 \nL 39.65 7.2 \nz\n\" style=\"fill:#ffffff;\"/>\n   </g>\n   <g id=\"matplotlib.axis_1\">\n    <g id=\"xtick_1\">\n     <g id=\"line2d_1\">\n      <defs>\n       <path d=\"M 0 0 \nL 0 3.5 \n\" id=\"mc849fcd97b\" style=\"stroke:#000000;stroke-width:0.8;\"/>\n      </defs>\n      <g>\n       <use style=\"stroke:#000000;stroke-width:0.8;\" x=\"68.549811\" xlink:href=\"#mc849fcd97b\" y=\"203.04\"/>\n      </g>\n     </g>\n     <g id=\"text_1\">\n      <!-- 2017-01 -->\n      <g transform=\"translate(31.324991 237.511846)rotate(-30)scale(0.1 -0.1)\">\n       <defs>\n        <path d=\"M 1228 531 \nL 3431 531 \nL 3431 0 \nL 469 0 \nL 469 531 \nQ 828 903 1448 1529 \nQ 2069 2156 2228 2338 \nQ 2531 2678 2651 2914 \nQ 2772 3150 2772 3378 \nQ 2772 3750 2511 3984 \nQ 2250 4219 1831 4219 \nQ 1534 4219 1204 4116 \nQ 875 4013 500 3803 \nL 500 4441 \nQ 881 4594 1212 4672 \nQ 1544 4750 1819 4750 \nQ 2544 4750 2975 4387 \nQ 3406 4025 3406 3419 \nQ 3406 3131 3298 2873 \nQ 3191 2616 2906 2266 \nQ 2828 2175 2409 1742 \nQ 1991 1309 1228 531 \nz\n\" id=\"DejaVuSans-32\" transform=\"scale(0.015625)\"/>\n        <path d=\"M 2034 4250 \nQ 1547 4250 1301 3770 \nQ 1056 3291 1056 2328 \nQ 1056 1369 1301 889 \nQ 1547 409 2034 409 \nQ 2525 409 2770 889 \nQ 3016 1369 3016 2328 \nQ 3016 3291 2770 3770 \nQ 2525 4250 2034 4250 \nz\nM 2034 4750 \nQ 2819 4750 3233 4129 \nQ 3647 3509 3647 2328 \nQ 3647 1150 3233 529 \nQ 2819 -91 2034 -91 \nQ 1250 -91 836 529 \nQ 422 1150 422 2328 \nQ 422 3509 836 4129 \nQ 1250 4750 2034 4750 \nz\n\" id=\"DejaVuSans-30\" transform=\"scale(0.015625)\"/>\n        <path d=\"M 794 531 \nL 1825 531 \nL 1825 4091 \nL 703 3866 \nL 703 4441 \nL 1819 4666 \nL 2450 4666 \nL 2450 531 \nL 3481 531 \nL 3481 0 \nL 794 0 \nL 794 531 \nz\n\" id=\"DejaVuSans-31\" transform=\"scale(0.015625)\"/>\n        <path d=\"M 525 4666 \nL 3525 4666 \nL 3525 4397 \nL 1831 0 \nL 1172 0 \nL 2766 4134 \nL 525 4134 \nL 525 4666 \nz\n\" id=\"DejaVuSans-37\" transform=\"scale(0.015625)\"/>\n        <path d=\"M 313 2009 \nL 1997 2009 \nL 1997 1497 \nL 313 1497 \nL 313 2009 \nz\n\" id=\"DejaVuSans-2d\" transform=\"scale(0.015625)\"/>\n       </defs>\n       <use xlink:href=\"#DejaVuSans-32\"/>\n       <use x=\"63.623047\" xlink:href=\"#DejaVuSans-30\"/>\n       <use x=\"127.246094\" xlink:href=\"#DejaVuSans-31\"/>\n       <use x=\"190.869141\" xlink:href=\"#DejaVuSans-37\"/>\n       <use x=\"254.492188\" xlink:href=\"#DejaVuSans-2d\"/>\n       <use x=\"290.576172\" xlink:href=\"#DejaVuSans-30\"/>\n       <use x=\"354.199219\" xlink:href=\"#DejaVuSans-31\"/>\n      </g>\n     </g>\n    </g>\n    <g id=\"xtick_2\">\n     <g id=\"line2d_2\">\n      <g>\n       <use style=\"stroke:#000000;stroke-width:0.8;\" x=\"106.647888\" xlink:href=\"#mc849fcd97b\" y=\"203.04\"/>\n      </g>\n     </g>\n     <g id=\"text_2\">\n      <!-- 2017-07 -->\n      <g transform=\"translate(69.423067 237.511846)rotate(-30)scale(0.1 -0.1)\">\n       <use xlink:href=\"#DejaVuSans-32\"/>\n       <use x=\"63.623047\" xlink:href=\"#DejaVuSans-30\"/>\n       <use x=\"127.246094\" xlink:href=\"#DejaVuSans-31\"/>\n       <use x=\"190.869141\" xlink:href=\"#DejaVuSans-37\"/>\n       <use x=\"254.492188\" xlink:href=\"#DejaVuSans-2d\"/>\n       <use x=\"290.576172\" xlink:href=\"#DejaVuSans-30\"/>\n       <use x=\"354.199219\" xlink:href=\"#DejaVuSans-37\"/>\n      </g>\n     </g>\n    </g>\n    <g id=\"xtick_3\">\n     <g id=\"line2d_3\">\n      <g>\n       <use style=\"stroke:#000000;stroke-width:0.8;\" x=\"145.377424\" xlink:href=\"#mc849fcd97b\" y=\"203.04\"/>\n      </g>\n     </g>\n     <g id=\"text_3\">\n      <!-- 2018-01 -->\n      <g transform=\"translate(108.152603 237.511846)rotate(-30)scale(0.1 -0.1)\">\n       <defs>\n        <path d=\"M 2034 2216 \nQ 1584 2216 1326 1975 \nQ 1069 1734 1069 1313 \nQ 1069 891 1326 650 \nQ 1584 409 2034 409 \nQ 2484 409 2743 651 \nQ 3003 894 3003 1313 \nQ 3003 1734 2745 1975 \nQ 2488 2216 2034 2216 \nz\nM 1403 2484 \nQ 997 2584 770 2862 \nQ 544 3141 544 3541 \nQ 544 4100 942 4425 \nQ 1341 4750 2034 4750 \nQ 2731 4750 3128 4425 \nQ 3525 4100 3525 3541 \nQ 3525 3141 3298 2862 \nQ 3072 2584 2669 2484 \nQ 3125 2378 3379 2068 \nQ 3634 1759 3634 1313 \nQ 3634 634 3220 271 \nQ 2806 -91 2034 -91 \nQ 1263 -91 848 271 \nQ 434 634 434 1313 \nQ 434 1759 690 2068 \nQ 947 2378 1403 2484 \nz\nM 1172 3481 \nQ 1172 3119 1398 2916 \nQ 1625 2713 2034 2713 \nQ 2441 2713 2670 2916 \nQ 2900 3119 2900 3481 \nQ 2900 3844 2670 4047 \nQ 2441 4250 2034 4250 \nQ 1625 4250 1398 4047 \nQ 1172 3844 1172 3481 \nz\n\" id=\"DejaVuSans-38\" transform=\"scale(0.015625)\"/>\n       </defs>\n       <use xlink:href=\"#DejaVuSans-32\"/>\n       <use x=\"63.623047\" xlink:href=\"#DejaVuSans-30\"/>\n       <use x=\"127.246094\" xlink:href=\"#DejaVuSans-31\"/>\n       <use x=\"190.869141\" xlink:href=\"#DejaVuSans-38\"/>\n       <use x=\"254.492188\" xlink:href=\"#DejaVuSans-2d\"/>\n       <use x=\"290.576172\" xlink:href=\"#DejaVuSans-30\"/>\n       <use x=\"354.199219\" xlink:href=\"#DejaVuSans-31\"/>\n      </g>\n     </g>\n    </g>\n    <g id=\"xtick_4\">\n     <g id=\"line2d_4\">\n      <g>\n       <use style=\"stroke:#000000;stroke-width:0.8;\" x=\"183.4755\" xlink:href=\"#mc849fcd97b\" y=\"203.04\"/>\n      </g>\n     </g>\n     <g id=\"text_4\">\n      <!-- 2018-07 -->\n      <g transform=\"translate(146.250679 237.511846)rotate(-30)scale(0.1 -0.1)\">\n       <use xlink:href=\"#DejaVuSans-32\"/>\n       <use x=\"63.623047\" xlink:href=\"#DejaVuSans-30\"/>\n       <use x=\"127.246094\" xlink:href=\"#DejaVuSans-31\"/>\n       <use x=\"190.869141\" xlink:href=\"#DejaVuSans-38\"/>\n       <use x=\"254.492188\" xlink:href=\"#DejaVuSans-2d\"/>\n       <use x=\"290.576172\" xlink:href=\"#DejaVuSans-30\"/>\n       <use x=\"354.199219\" xlink:href=\"#DejaVuSans-37\"/>\n      </g>\n     </g>\n    </g>\n    <g id=\"xtick_5\">\n     <g id=\"line2d_5\">\n      <g>\n       <use style=\"stroke:#000000;stroke-width:0.8;\" x=\"222.205036\" xlink:href=\"#mc849fcd97b\" y=\"203.04\"/>\n      </g>\n     </g>\n     <g id=\"text_5\">\n      <!-- 2019-01 -->\n      <g transform=\"translate(184.980215 237.511846)rotate(-30)scale(0.1 -0.1)\">\n       <defs>\n        <path d=\"M 703 97 \nL 703 672 \nQ 941 559 1184 500 \nQ 1428 441 1663 441 \nQ 2288 441 2617 861 \nQ 2947 1281 2994 2138 \nQ 2813 1869 2534 1725 \nQ 2256 1581 1919 1581 \nQ 1219 1581 811 2004 \nQ 403 2428 403 3163 \nQ 403 3881 828 4315 \nQ 1253 4750 1959 4750 \nQ 2769 4750 3195 4129 \nQ 3622 3509 3622 2328 \nQ 3622 1225 3098 567 \nQ 2575 -91 1691 -91 \nQ 1453 -91 1209 -44 \nQ 966 3 703 97 \nz\nM 1959 2075 \nQ 2384 2075 2632 2365 \nQ 2881 2656 2881 3163 \nQ 2881 3666 2632 3958 \nQ 2384 4250 1959 4250 \nQ 1534 4250 1286 3958 \nQ 1038 3666 1038 3163 \nQ 1038 2656 1286 2365 \nQ 1534 2075 1959 2075 \nz\n\" id=\"DejaVuSans-39\" transform=\"scale(0.015625)\"/>\n       </defs>\n       <use xlink:href=\"#DejaVuSans-32\"/>\n       <use x=\"63.623047\" xlink:href=\"#DejaVuSans-30\"/>\n       <use x=\"127.246094\" xlink:href=\"#DejaVuSans-31\"/>\n       <use x=\"190.869141\" xlink:href=\"#DejaVuSans-39\"/>\n       <use x=\"254.492188\" xlink:href=\"#DejaVuSans-2d\"/>\n       <use x=\"290.576172\" xlink:href=\"#DejaVuSans-30\"/>\n       <use x=\"354.199219\" xlink:href=\"#DejaVuSans-31\"/>\n      </g>\n     </g>\n    </g>\n    <g id=\"xtick_6\">\n     <g id=\"line2d_6\">\n      <g>\n       <use style=\"stroke:#000000;stroke-width:0.8;\" x=\"260.303112\" xlink:href=\"#mc849fcd97b\" y=\"203.04\"/>\n      </g>\n     </g>\n     <g id=\"text_6\">\n      <!-- 2019-07 -->\n      <g transform=\"translate(223.078291 237.511846)rotate(-30)scale(0.1 -0.1)\">\n       <use xlink:href=\"#DejaVuSans-32\"/>\n       <use x=\"63.623047\" xlink:href=\"#DejaVuSans-30\"/>\n       <use x=\"127.246094\" xlink:href=\"#DejaVuSans-31\"/>\n       <use x=\"190.869141\" xlink:href=\"#DejaVuSans-39\"/>\n       <use x=\"254.492188\" xlink:href=\"#DejaVuSans-2d\"/>\n       <use x=\"290.576172\" xlink:href=\"#DejaVuSans-30\"/>\n       <use x=\"354.199219\" xlink:href=\"#DejaVuSans-37\"/>\n      </g>\n     </g>\n    </g>\n    <g id=\"xtick_7\">\n     <g id=\"line2d_7\">\n      <g>\n       <use style=\"stroke:#000000;stroke-width:0.8;\" x=\"299.032648\" xlink:href=\"#mc849fcd97b\" y=\"203.04\"/>\n      </g>\n     </g>\n     <g id=\"text_7\">\n      <!-- 2020-01 -->\n      <g transform=\"translate(261.807827 237.511846)rotate(-30)scale(0.1 -0.1)\">\n       <use xlink:href=\"#DejaVuSans-32\"/>\n       <use x=\"63.623047\" xlink:href=\"#DejaVuSans-30\"/>\n       <use x=\"127.246094\" xlink:href=\"#DejaVuSans-32\"/>\n       <use x=\"190.869141\" xlink:href=\"#DejaVuSans-30\"/>\n       <use x=\"254.492188\" xlink:href=\"#DejaVuSans-2d\"/>\n       <use x=\"290.576172\" xlink:href=\"#DejaVuSans-30\"/>\n       <use x=\"354.199219\" xlink:href=\"#DejaVuSans-31\"/>\n      </g>\n     </g>\n    </g>\n    <g id=\"xtick_8\">\n     <g id=\"line2d_8\">\n      <g>\n       <use style=\"stroke:#000000;stroke-width:0.8;\" x=\"337.341211\" xlink:href=\"#mc849fcd97b\" y=\"203.04\"/>\n      </g>\n     </g>\n     <g id=\"text_8\">\n      <!-- 2020-07 -->\n      <g transform=\"translate(300.11639 237.511846)rotate(-30)scale(0.1 -0.1)\">\n       <use xlink:href=\"#DejaVuSans-32\"/>\n       <use x=\"63.623047\" xlink:href=\"#DejaVuSans-30\"/>\n       <use x=\"127.246094\" xlink:href=\"#DejaVuSans-32\"/>\n       <use x=\"190.869141\" xlink:href=\"#DejaVuSans-30\"/>\n       <use x=\"254.492188\" xlink:href=\"#DejaVuSans-2d\"/>\n       <use x=\"290.576172\" xlink:href=\"#DejaVuSans-30\"/>\n       <use x=\"354.199219\" xlink:href=\"#DejaVuSans-37\"/>\n      </g>\n     </g>\n    </g>\n    <g id=\"text_9\">\n     <!-- tournament_date -->\n     <g transform=\"translate(163.810156 250.911346)scale(0.1 -0.1)\">\n      <defs>\n       <path d=\"M 1172 4494 \nL 1172 3500 \nL 2356 3500 \nL 2356 3053 \nL 1172 3053 \nL 1172 1153 \nQ 1172 725 1289 603 \nQ 1406 481 1766 481 \nL 2356 481 \nL 2356 0 \nL 1766 0 \nQ 1100 0 847 248 \nQ 594 497 594 1153 \nL 594 3053 \nL 172 3053 \nL 172 3500 \nL 594 3500 \nL 594 4494 \nL 1172 4494 \nz\n\" id=\"DejaVuSans-74\" transform=\"scale(0.015625)\"/>\n       <path d=\"M 1959 3097 \nQ 1497 3097 1228 2736 \nQ 959 2375 959 1747 \nQ 959 1119 1226 758 \nQ 1494 397 1959 397 \nQ 2419 397 2687 759 \nQ 2956 1122 2956 1747 \nQ 2956 2369 2687 2733 \nQ 2419 3097 1959 3097 \nz\nM 1959 3584 \nQ 2709 3584 3137 3096 \nQ 3566 2609 3566 1747 \nQ 3566 888 3137 398 \nQ 2709 -91 1959 -91 \nQ 1206 -91 779 398 \nQ 353 888 353 1747 \nQ 353 2609 779 3096 \nQ 1206 3584 1959 3584 \nz\n\" id=\"DejaVuSans-6f\" transform=\"scale(0.015625)\"/>\n       <path d=\"M 544 1381 \nL 544 3500 \nL 1119 3500 \nL 1119 1403 \nQ 1119 906 1312 657 \nQ 1506 409 1894 409 \nQ 2359 409 2629 706 \nQ 2900 1003 2900 1516 \nL 2900 3500 \nL 3475 3500 \nL 3475 0 \nL 2900 0 \nL 2900 538 \nQ 2691 219 2414 64 \nQ 2138 -91 1772 -91 \nQ 1169 -91 856 284 \nQ 544 659 544 1381 \nz\nM 1991 3584 \nL 1991 3584 \nz\n\" id=\"DejaVuSans-75\" transform=\"scale(0.015625)\"/>\n       <path d=\"M 2631 2963 \nQ 2534 3019 2420 3045 \nQ 2306 3072 2169 3072 \nQ 1681 3072 1420 2755 \nQ 1159 2438 1159 1844 \nL 1159 0 \nL 581 0 \nL 581 3500 \nL 1159 3500 \nL 1159 2956 \nQ 1341 3275 1631 3429 \nQ 1922 3584 2338 3584 \nQ 2397 3584 2469 3576 \nQ 2541 3569 2628 3553 \nL 2631 2963 \nz\n\" id=\"DejaVuSans-72\" transform=\"scale(0.015625)\"/>\n       <path d=\"M 3513 2113 \nL 3513 0 \nL 2938 0 \nL 2938 2094 \nQ 2938 2591 2744 2837 \nQ 2550 3084 2163 3084 \nQ 1697 3084 1428 2787 \nQ 1159 2491 1159 1978 \nL 1159 0 \nL 581 0 \nL 581 3500 \nL 1159 3500 \nL 1159 2956 \nQ 1366 3272 1645 3428 \nQ 1925 3584 2291 3584 \nQ 2894 3584 3203 3211 \nQ 3513 2838 3513 2113 \nz\n\" id=\"DejaVuSans-6e\" transform=\"scale(0.015625)\"/>\n       <path d=\"M 2194 1759 \nQ 1497 1759 1228 1600 \nQ 959 1441 959 1056 \nQ 959 750 1161 570 \nQ 1363 391 1709 391 \nQ 2188 391 2477 730 \nQ 2766 1069 2766 1631 \nL 2766 1759 \nL 2194 1759 \nz\nM 3341 1997 \nL 3341 0 \nL 2766 0 \nL 2766 531 \nQ 2569 213 2275 61 \nQ 1981 -91 1556 -91 \nQ 1019 -91 701 211 \nQ 384 513 384 1019 \nQ 384 1609 779 1909 \nQ 1175 2209 1959 2209 \nL 2766 2209 \nL 2766 2266 \nQ 2766 2663 2505 2880 \nQ 2244 3097 1772 3097 \nQ 1472 3097 1187 3025 \nQ 903 2953 641 2809 \nL 641 3341 \nQ 956 3463 1253 3523 \nQ 1550 3584 1831 3584 \nQ 2591 3584 2966 3190 \nQ 3341 2797 3341 1997 \nz\n\" id=\"DejaVuSans-61\" transform=\"scale(0.015625)\"/>\n       <path d=\"M 3328 2828 \nQ 3544 3216 3844 3400 \nQ 4144 3584 4550 3584 \nQ 5097 3584 5394 3201 \nQ 5691 2819 5691 2113 \nL 5691 0 \nL 5113 0 \nL 5113 2094 \nQ 5113 2597 4934 2840 \nQ 4756 3084 4391 3084 \nQ 3944 3084 3684 2787 \nQ 3425 2491 3425 1978 \nL 3425 0 \nL 2847 0 \nL 2847 2094 \nQ 2847 2600 2669 2842 \nQ 2491 3084 2119 3084 \nQ 1678 3084 1418 2786 \nQ 1159 2488 1159 1978 \nL 1159 0 \nL 581 0 \nL 581 3500 \nL 1159 3500 \nL 1159 2956 \nQ 1356 3278 1631 3431 \nQ 1906 3584 2284 3584 \nQ 2666 3584 2933 3390 \nQ 3200 3197 3328 2828 \nz\n\" id=\"DejaVuSans-6d\" transform=\"scale(0.015625)\"/>\n       <path d=\"M 3597 1894 \nL 3597 1613 \nL 953 1613 \nQ 991 1019 1311 708 \nQ 1631 397 2203 397 \nQ 2534 397 2845 478 \nQ 3156 559 3463 722 \nL 3463 178 \nQ 3153 47 2828 -22 \nQ 2503 -91 2169 -91 \nQ 1331 -91 842 396 \nQ 353 884 353 1716 \nQ 353 2575 817 3079 \nQ 1281 3584 2069 3584 \nQ 2775 3584 3186 3129 \nQ 3597 2675 3597 1894 \nz\nM 3022 2063 \nQ 3016 2534 2758 2815 \nQ 2500 3097 2075 3097 \nQ 1594 3097 1305 2825 \nQ 1016 2553 972 2059 \nL 3022 2063 \nz\n\" id=\"DejaVuSans-65\" transform=\"scale(0.015625)\"/>\n       <path d=\"M 3263 -1063 \nL 3263 -1509 \nL -63 -1509 \nL -63 -1063 \nL 3263 -1063 \nz\n\" id=\"DejaVuSans-5f\" transform=\"scale(0.015625)\"/>\n       <path d=\"M 2906 2969 \nL 2906 4863 \nL 3481 4863 \nL 3481 0 \nL 2906 0 \nL 2906 525 \nQ 2725 213 2448 61 \nQ 2172 -91 1784 -91 \nQ 1150 -91 751 415 \nQ 353 922 353 1747 \nQ 353 2572 751 3078 \nQ 1150 3584 1784 3584 \nQ 2172 3584 2448 3432 \nQ 2725 3281 2906 2969 \nz\nM 947 1747 \nQ 947 1113 1208 752 \nQ 1469 391 1925 391 \nQ 2381 391 2643 752 \nQ 2906 1113 2906 1747 \nQ 2906 2381 2643 2742 \nQ 2381 3103 1925 3103 \nQ 1469 3103 1208 2742 \nQ 947 2381 947 1747 \nz\n\" id=\"DejaVuSans-64\" transform=\"scale(0.015625)\"/>\n      </defs>\n      <use xlink:href=\"#DejaVuSans-74\"/>\n      <use x=\"39.208984\" xlink:href=\"#DejaVuSans-6f\"/>\n      <use x=\"100.390625\" xlink:href=\"#DejaVuSans-75\"/>\n      <use x=\"163.769531\" xlink:href=\"#DejaVuSans-72\"/>\n      <use x=\"203.132812\" xlink:href=\"#DejaVuSans-6e\"/>\n      <use x=\"266.511719\" xlink:href=\"#DejaVuSans-61\"/>\n      <use x=\"327.791016\" xlink:href=\"#DejaVuSans-6d\"/>\n      <use x=\"425.203125\" xlink:href=\"#DejaVuSans-65\"/>\n      <use x=\"486.726562\" xlink:href=\"#DejaVuSans-6e\"/>\n      <use x=\"550.105469\" xlink:href=\"#DejaVuSans-74\"/>\n      <use x=\"589.314453\" xlink:href=\"#DejaVuSans-5f\"/>\n      <use x=\"639.314453\" xlink:href=\"#DejaVuSans-64\"/>\n      <use x=\"702.791016\" xlink:href=\"#DejaVuSans-61\"/>\n      <use x=\"764.070312\" xlink:href=\"#DejaVuSans-74\"/>\n      <use x=\"803.279297\" xlink:href=\"#DejaVuSans-65\"/>\n     </g>\n    </g>\n   </g>\n   <g id=\"matplotlib.axis_2\">\n    <g id=\"ytick_1\">\n     <g id=\"line2d_9\">\n      <defs>\n       <path d=\"M 0 0 \nL -3.5 0 \n\" id=\"mc29cb5d8db\" style=\"stroke:#000000;stroke-width:0.8;\"/>\n      </defs>\n      <g>\n       <use style=\"stroke:#000000;stroke-width:0.8;\" x=\"39.65\" xlink:href=\"#mc29cb5d8db\" y=\"200.022899\"/>\n      </g>\n     </g>\n     <g id=\"text_10\">\n      <!-- 1675 -->\n      <g transform=\"translate(7.2 203.822118)scale(0.1 -0.1)\">\n       <defs>\n        <path d=\"M 2113 2584 \nQ 1688 2584 1439 2293 \nQ 1191 2003 1191 1497 \nQ 1191 994 1439 701 \nQ 1688 409 2113 409 \nQ 2538 409 2786 701 \nQ 3034 994 3034 1497 \nQ 3034 2003 2786 2293 \nQ 2538 2584 2113 2584 \nz\nM 3366 4563 \nL 3366 3988 \nQ 3128 4100 2886 4159 \nQ 2644 4219 2406 4219 \nQ 1781 4219 1451 3797 \nQ 1122 3375 1075 2522 \nQ 1259 2794 1537 2939 \nQ 1816 3084 2150 3084 \nQ 2853 3084 3261 2657 \nQ 3669 2231 3669 1497 \nQ 3669 778 3244 343 \nQ 2819 -91 2113 -91 \nQ 1303 -91 875 529 \nQ 447 1150 447 2328 \nQ 447 3434 972 4092 \nQ 1497 4750 2381 4750 \nQ 2619 4750 2861 4703 \nQ 3103 4656 3366 4563 \nz\n\" id=\"DejaVuSans-36\" transform=\"scale(0.015625)\"/>\n        <path d=\"M 691 4666 \nL 3169 4666 \nL 3169 4134 \nL 1269 4134 \nL 1269 2991 \nQ 1406 3038 1543 3061 \nQ 1681 3084 1819 3084 \nQ 2600 3084 3056 2656 \nQ 3513 2228 3513 1497 \nQ 3513 744 3044 326 \nQ 2575 -91 1722 -91 \nQ 1428 -91 1123 -41 \nQ 819 9 494 109 \nL 494 744 \nQ 775 591 1075 516 \nQ 1375 441 1709 441 \nQ 2250 441 2565 725 \nQ 2881 1009 2881 1497 \nQ 2881 1984 2565 2268 \nQ 2250 2553 1709 2553 \nQ 1456 2553 1204 2497 \nQ 953 2441 691 2322 \nL 691 4666 \nz\n\" id=\"DejaVuSans-35\" transform=\"scale(0.015625)\"/>\n       </defs>\n       <use xlink:href=\"#DejaVuSans-31\"/>\n       <use x=\"63.623047\" xlink:href=\"#DejaVuSans-36\"/>\n       <use x=\"127.246094\" xlink:href=\"#DejaVuSans-37\"/>\n       <use x=\"190.869141\" xlink:href=\"#DejaVuSans-35\"/>\n      </g>\n     </g>\n    </g>\n    <g id=\"ytick_2\">\n     <g id=\"line2d_10\">\n      <g>\n       <use style=\"stroke:#000000;stroke-width:0.8;\" x=\"39.65\" xlink:href=\"#mc29cb5d8db\" y=\"177.42221\"/>\n      </g>\n     </g>\n     <g id=\"text_11\">\n      <!-- 1700 -->\n      <g transform=\"translate(7.2 181.221428)scale(0.1 -0.1)\">\n       <use xlink:href=\"#DejaVuSans-31\"/>\n       <use x=\"63.623047\" xlink:href=\"#DejaVuSans-37\"/>\n       <use x=\"127.246094\" xlink:href=\"#DejaVuSans-30\"/>\n       <use x=\"190.869141\" xlink:href=\"#DejaVuSans-30\"/>\n      </g>\n     </g>\n    </g>\n    <g id=\"ytick_3\">\n     <g id=\"line2d_11\">\n      <g>\n       <use style=\"stroke:#000000;stroke-width:0.8;\" x=\"39.65\" xlink:href=\"#mc29cb5d8db\" y=\"154.82152\"/>\n      </g>\n     </g>\n     <g id=\"text_12\">\n      <!-- 1725 -->\n      <g transform=\"translate(7.2 158.620739)scale(0.1 -0.1)\">\n       <use xlink:href=\"#DejaVuSans-31\"/>\n       <use x=\"63.623047\" xlink:href=\"#DejaVuSans-37\"/>\n       <use x=\"127.246094\" xlink:href=\"#DejaVuSans-32\"/>\n       <use x=\"190.869141\" xlink:href=\"#DejaVuSans-35\"/>\n      </g>\n     </g>\n    </g>\n    <g id=\"ytick_4\">\n     <g id=\"line2d_12\">\n      <g>\n       <use style=\"stroke:#000000;stroke-width:0.8;\" x=\"39.65\" xlink:href=\"#mc29cb5d8db\" y=\"132.22083\"/>\n      </g>\n     </g>\n     <g id=\"text_13\">\n      <!-- 1750 -->\n      <g transform=\"translate(7.2 136.020049)scale(0.1 -0.1)\">\n       <use xlink:href=\"#DejaVuSans-31\"/>\n       <use x=\"63.623047\" xlink:href=\"#DejaVuSans-37\"/>\n       <use x=\"127.246094\" xlink:href=\"#DejaVuSans-35\"/>\n       <use x=\"190.869141\" xlink:href=\"#DejaVuSans-30\"/>\n      </g>\n     </g>\n    </g>\n    <g id=\"ytick_5\">\n     <g id=\"line2d_13\">\n      <g>\n       <use style=\"stroke:#000000;stroke-width:0.8;\" x=\"39.65\" xlink:href=\"#mc29cb5d8db\" y=\"109.620141\"/>\n      </g>\n     </g>\n     <g id=\"text_14\">\n      <!-- 1775 -->\n      <g transform=\"translate(7.2 113.419359)scale(0.1 -0.1)\">\n       <use xlink:href=\"#DejaVuSans-31\"/>\n       <use x=\"63.623047\" xlink:href=\"#DejaVuSans-37\"/>\n       <use x=\"127.246094\" xlink:href=\"#DejaVuSans-37\"/>\n       <use x=\"190.869141\" xlink:href=\"#DejaVuSans-35\"/>\n      </g>\n     </g>\n    </g>\n    <g id=\"ytick_6\">\n     <g id=\"line2d_14\">\n      <g>\n       <use style=\"stroke:#000000;stroke-width:0.8;\" x=\"39.65\" xlink:href=\"#mc29cb5d8db\" y=\"87.019451\"/>\n      </g>\n     </g>\n     <g id=\"text_15\">\n      <!-- 1800 -->\n      <g transform=\"translate(7.2 90.81867)scale(0.1 -0.1)\">\n       <use xlink:href=\"#DejaVuSans-31\"/>\n       <use x=\"63.623047\" xlink:href=\"#DejaVuSans-38\"/>\n       <use x=\"127.246094\" xlink:href=\"#DejaVuSans-30\"/>\n       <use x=\"190.869141\" xlink:href=\"#DejaVuSans-30\"/>\n      </g>\n     </g>\n    </g>\n    <g id=\"ytick_7\">\n     <g id=\"line2d_15\">\n      <g>\n       <use style=\"stroke:#000000;stroke-width:0.8;\" x=\"39.65\" xlink:href=\"#mc29cb5d8db\" y=\"64.418761\"/>\n      </g>\n     </g>\n     <g id=\"text_16\">\n      <!-- 1825 -->\n      <g transform=\"translate(7.2 68.21798)scale(0.1 -0.1)\">\n       <use xlink:href=\"#DejaVuSans-31\"/>\n       <use x=\"63.623047\" xlink:href=\"#DejaVuSans-38\"/>\n       <use x=\"127.246094\" xlink:href=\"#DejaVuSans-32\"/>\n       <use x=\"190.869141\" xlink:href=\"#DejaVuSans-35\"/>\n      </g>\n     </g>\n    </g>\n    <g id=\"ytick_8\">\n     <g id=\"line2d_16\">\n      <g>\n       <use style=\"stroke:#000000;stroke-width:0.8;\" x=\"39.65\" xlink:href=\"#mc29cb5d8db\" y=\"41.818071\"/>\n      </g>\n     </g>\n     <g id=\"text_17\">\n      <!-- 1850 -->\n      <g transform=\"translate(7.2 45.61729)scale(0.1 -0.1)\">\n       <use xlink:href=\"#DejaVuSans-31\"/>\n       <use x=\"63.623047\" xlink:href=\"#DejaVuSans-38\"/>\n       <use x=\"127.246094\" xlink:href=\"#DejaVuSans-35\"/>\n       <use x=\"190.869141\" xlink:href=\"#DejaVuSans-30\"/>\n      </g>\n     </g>\n    </g>\n    <g id=\"ytick_9\">\n     <g id=\"line2d_17\">\n      <g>\n       <use style=\"stroke:#000000;stroke-width:0.8;\" x=\"39.65\" xlink:href=\"#mc29cb5d8db\" y=\"19.217382\"/>\n      </g>\n     </g>\n     <g id=\"text_18\">\n      <!-- 1875 -->\n      <g transform=\"translate(7.2 23.0166)scale(0.1 -0.1)\">\n       <use xlink:href=\"#DejaVuSans-31\"/>\n       <use x=\"63.623047\" xlink:href=\"#DejaVuSans-38\"/>\n       <use x=\"127.246094\" xlink:href=\"#DejaVuSans-37\"/>\n       <use x=\"190.869141\" xlink:href=\"#DejaVuSans-35\"/>\n      </g>\n     </g>\n    </g>\n   </g>\n   <g id=\"line2d_18\">\n    <path clip-path=\"url(#p6e94c69877)\" d=\"M 54.868182 194.138182 \nL 55.078668 180.120582 \nL 106.858374 150.880344 \nL 106.858374 115.376305 \nL 106.858374 84.892021 \nL 107.279347 47.756108 \nL 109.384214 25.05738 \nL 112.120539 20.645304 \nL 117.172218 16.101818 \nL 359.231818 38.408797 \n\" style=\"fill:none;stroke:#1f77b4;stroke-linecap:square;stroke-width:1.5;\"/>\n   </g>\n   <g id=\"patch_3\">\n    <path d=\"M 39.65 203.04 \nL 39.65 7.2 \n\" style=\"fill:none;stroke:#000000;stroke-linecap:square;stroke-linejoin:miter;stroke-width:0.8;\"/>\n   </g>\n   <g id=\"patch_4\">\n    <path d=\"M 374.45 203.04 \nL 374.45 7.2 \n\" style=\"fill:none;stroke:#000000;stroke-linecap:square;stroke-linejoin:miter;stroke-width:0.8;\"/>\n   </g>\n   <g id=\"patch_5\">\n    <path d=\"M 39.65 203.04 \nL 374.45 203.04 \n\" style=\"fill:none;stroke:#000000;stroke-linecap:square;stroke-linejoin:miter;stroke-width:0.8;\"/>\n   </g>\n   <g id=\"patch_6\">\n    <path d=\"M 39.65 7.2 \nL 374.45 7.2 \n\" style=\"fill:none;stroke:#000000;stroke-linecap:square;stroke-linejoin:miter;stroke-width:0.8;\"/>\n   </g>\n   <g id=\"legend_1\">\n    <g id=\"patch_7\">\n     <path d=\"M 285.776563 30.15625 \nL 367.45 30.15625 \nQ 369.45 30.15625 369.45 28.15625 \nL 369.45 14.2 \nQ 369.45 12.2 367.45 12.2 \nL 285.776563 12.2 \nQ 283.776563 12.2 283.776563 14.2 \nL 283.776563 28.15625 \nQ 283.776563 30.15625 285.776563 30.15625 \nz\n\" style=\"fill:#ffffff;opacity:0.8;stroke:#cccccc;stroke-linejoin:miter;\"/>\n    </g>\n    <g id=\"line2d_19\">\n     <path d=\"M 287.776563 20.298438 \nL 307.776563 20.298438 \n\" style=\"fill:none;stroke:#1f77b4;stroke-linecap:square;stroke-width:1.5;\"/>\n    </g>\n    <g id=\"line2d_20\"/>\n    <g id=\"text_19\">\n     <!-- elo_rating -->\n     <g transform=\"translate(315.776563 23.798438)scale(0.1 -0.1)\">\n      <defs>\n       <path d=\"M 603 4863 \nL 1178 4863 \nL 1178 0 \nL 603 0 \nL 603 4863 \nz\n\" id=\"DejaVuSans-6c\" transform=\"scale(0.015625)\"/>\n       <path d=\"M 603 3500 \nL 1178 3500 \nL 1178 0 \nL 603 0 \nL 603 3500 \nz\nM 603 4863 \nL 1178 4863 \nL 1178 4134 \nL 603 4134 \nL 603 4863 \nz\n\" id=\"DejaVuSans-69\" transform=\"scale(0.015625)\"/>\n       <path d=\"M 2906 1791 \nQ 2906 2416 2648 2759 \nQ 2391 3103 1925 3103 \nQ 1463 3103 1205 2759 \nQ 947 2416 947 1791 \nQ 947 1169 1205 825 \nQ 1463 481 1925 481 \nQ 2391 481 2648 825 \nQ 2906 1169 2906 1791 \nz\nM 3481 434 \nQ 3481 -459 3084 -895 \nQ 2688 -1331 1869 -1331 \nQ 1566 -1331 1297 -1286 \nQ 1028 -1241 775 -1147 \nL 775 -588 \nQ 1028 -725 1275 -790 \nQ 1522 -856 1778 -856 \nQ 2344 -856 2625 -561 \nQ 2906 -266 2906 331 \nL 2906 616 \nQ 2728 306 2450 153 \nQ 2172 0 1784 0 \nQ 1141 0 747 490 \nQ 353 981 353 1791 \nQ 353 2603 747 3093 \nQ 1141 3584 1784 3584 \nQ 2172 3584 2450 3431 \nQ 2728 3278 2906 2969 \nL 2906 3500 \nL 3481 3500 \nL 3481 434 \nz\n\" id=\"DejaVuSans-67\" transform=\"scale(0.015625)\"/>\n      </defs>\n      <use xlink:href=\"#DejaVuSans-65\"/>\n      <use x=\"61.523438\" xlink:href=\"#DejaVuSans-6c\"/>\n      <use x=\"89.306641\" xlink:href=\"#DejaVuSans-6f\"/>\n      <use x=\"150.488281\" xlink:href=\"#DejaVuSans-5f\"/>\n      <use x=\"200.488281\" xlink:href=\"#DejaVuSans-72\"/>\n      <use x=\"241.601562\" xlink:href=\"#DejaVuSans-61\"/>\n      <use x=\"302.880859\" xlink:href=\"#DejaVuSans-74\"/>\n      <use x=\"342.089844\" xlink:href=\"#DejaVuSans-69\"/>\n      <use x=\"369.873047\" xlink:href=\"#DejaVuSans-6e\"/>\n      <use x=\"433.251953\" xlink:href=\"#DejaVuSans-67\"/>\n     </g>\n    </g>\n   </g>\n  </g>\n </g>\n <defs>\n  <clipPath id=\"p6e94c69877\">\n   <rect height=\"195.84\" width=\"334.8\" x=\"39.65\" y=\"7.2\"/>\n  </clipPath>\n </defs>\n</svg>\n",
      "image/png": "[encoded data removed]"
     },
     "metadata": {
      "needs_background": "light"
     }
    }
   ],
   "source": [
    "one_wine_results.plot(x='tournament_date', y='elo_rating', kind='line')"
   ]
  }
 ]
}